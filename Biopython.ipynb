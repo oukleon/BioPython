{
 "cells": [
  {
   "cell_type": "markdown",
   "metadata": {},
   "source": [
    "## Import all related libraries"
   ]
  },
  {
   "cell_type": "code",
   "execution_count": 8,
   "metadata": {},
   "outputs": [],
   "source": [
    "import Bio\n",
    "import pylab\n",
    "import urllib\n",
    "import pandas as pd\n",
    "import nglview as nv\n",
    "from Bio.Seq import Seq\n",
    "from Bio.Blast import NCBIWWW\n",
    "# from Bio.Alphabet import IUPAC\n",
    "from collections import Counter\n",
    "from Bio.Data import CodonTable\n",
    "from Bio import SeqIO, SearchIO\n",
    "from Bio.PDB import PDBParser,MMCIFParser\n",
    "from Bio.SeqUtils import GC,molecular_weight\n",
    "# from Bio.Alphabet import generic_dna,generic_rna,generic_protein"
   ]
  },
  {
   "cell_type": "markdown",
   "metadata": {},
   "source": [
    "## read fasta file"
   ]
  },
  {
   "cell_type": "code",
   "execution_count": 9,
   "metadata": {},
   "outputs": [],
   "source": [
    "virus_seq_file=SeqIO.read(\"../Biopython/virus_seq/corona_genomic_data_1_29903_KR.txt\",\"fasta\")"
   ]
  },
  {
   "cell_type": "code",
   "execution_count": 10,
   "metadata": {},
   "outputs": [
    {
     "data": {
      "text/plain": [
       "SeqRecord(seq=Seq('ATTAAAGGTTTATACCTTCCCAGGTAACAAACCAACCAACTTTCGATCTCTTGT...AAA'), id='MT039890.1', name='MT039890.1', description='MT039890.1 Severe acute respiratory syndrome coronavirus 2 isolate SNU01, complete genome', dbxrefs=[])"
      ]
     },
     "execution_count": 10,
     "metadata": {},
     "output_type": "execute_result"
    }
   ],
   "source": [
    "virus_seq_file"
   ]
  },
  {
   "cell_type": "code",
   "execution_count": 11,
   "metadata": {},
   "outputs": [
    {
     "data": {
      "text/plain": [
       "Bio.SeqRecord.SeqRecord"
      ]
     },
     "execution_count": 11,
     "metadata": {},
     "output_type": "execute_result"
    }
   ],
   "source": [
    "type(virus_seq_file)"
   ]
  },
  {
   "cell_type": "code",
   "execution_count": 12,
   "metadata": {},
   "outputs": [
    {
     "data": {
      "text/plain": [
       "'MT039890.1'"
      ]
     },
     "execution_count": 12,
     "metadata": {},
     "output_type": "execute_result"
    }
   ],
   "source": [
    "virus_seq_file.id"
   ]
  },
  {
   "cell_type": "markdown",
   "metadata": {},
   "source": [
    "## print sequence only in fasta"
   ]
  },
  {
   "cell_type": "code",
   "execution_count": 13,
   "metadata": {},
   "outputs": [],
   "source": [
    "seq_only=virus_seq_file.seq"
   ]
  },
  {
   "cell_type": "code",
   "execution_count": 14,
   "metadata": {},
   "outputs": [
    {
     "data": {
      "text/plain": [
       "Seq('ATTAAAGGTTTATACCTTCCCAGGTAACAAACCAACCAACTTTCGATCTCTTGT...AAA')"
      ]
     },
     "execution_count": 14,
     "metadata": {},
     "output_type": "execute_result"
    }
   ],
   "source": [
    "seq_only"
   ]
  },
  {
   "cell_type": "code",
   "execution_count": 15,
   "metadata": {},
   "outputs": [
    {
     "name": "stdout",
     "output_type": "stream",
     "text": [
      "ID: MT039890.1\n",
      "Name: MT039890.1\n",
      "Description: MT039890.1 Severe acute respiratory syndrome coronavirus 2 isolate SNU01, complete genome\n",
      "Number of features: 0\n",
      "Seq('ATTAAAGGTTTATACCTTCCCAGGTAACAAACCAACCAACTTTCGATCTCTTGT...AAA')\n"
     ]
    }
   ],
   "source": [
    "for record in SeqIO.parse(\"../Biopython/virus_seq/corona_genomic_data_1_29903_KR.txt\",'fasta'):\n",
    "    print(record)"
   ]
  },
  {
   "cell_type": "code",
   "execution_count": 16,
   "metadata": {},
   "outputs": [
    {
     "data": {
      "text/plain": [
       "29903"
      ]
     },
     "execution_count": 16,
     "metadata": {},
     "output_type": "execute_result"
    }
   ],
   "source": [
    "len(seq_only)"
   ]
  },
  {
   "cell_type": "code",
   "execution_count": 17,
   "metadata": {},
   "outputs": [
    {
     "data": {
      "text/plain": [
       "9241223.23650041"
      ]
     },
     "execution_count": 17,
     "metadata": {},
     "output_type": "execute_result"
    }
   ],
   "source": [
    "molecular_weight(seq_only)"
   ]
  },
  {
   "cell_type": "code",
   "execution_count": 18,
   "metadata": {},
   "outputs": [
    {
     "data": {
      "text/plain": [
       "Seq('ATTAAA')"
      ]
     },
     "execution_count": 18,
     "metadata": {},
     "output_type": "execute_result"
    }
   ],
   "source": [
    "seq_only[:3]+seq_only[-3:]"
   ]
  },
  {
   "cell_type": "code",
   "execution_count": 19,
   "metadata": {},
   "outputs": [
    {
     "data": {
      "text/plain": [
       "54"
      ]
     },
     "execution_count": 19,
     "metadata": {},
     "output_type": "execute_result"
    }
   ],
   "source": [
    "seq_only.find('AGA')"
   ]
  },
  {
   "cell_type": "markdown",
   "metadata": {},
   "source": [
    "### GC contents"
   ]
  },
  {
   "cell_type": "code",
   "execution_count": 20,
   "metadata": {},
   "outputs": [
    {
     "data": {
      "text/plain": [
       "37.95605792060997"
      ]
     },
     "execution_count": 20,
     "metadata": {},
     "output_type": "execute_result"
    }
   ],
   "source": [
    "(seq_only.count('G')+seq_only.count('C'))/len(seq_only)*100 #GC content  by logic"
   ]
  },
  {
   "cell_type": "code",
   "execution_count": 21,
   "metadata": {},
   "outputs": [
    {
     "data": {
      "text/plain": [
       "37.95605792060997"
      ]
     },
     "execution_count": 21,
     "metadata": {},
     "output_type": "execute_result"
    }
   ],
   "source": [
    "GC(seq_only)#biopython"
   ]
  },
  {
   "cell_type": "markdown",
   "metadata": {},
   "source": [
    "### complement seq"
   ]
  },
  {
   "cell_type": "code",
   "execution_count": 22,
   "metadata": {},
   "outputs": [
    {
     "data": {
      "text/plain": [
       "Seq('ATTAAAGGTTT')"
      ]
     },
     "execution_count": 22,
     "metadata": {},
     "output_type": "execute_result"
    }
   ],
   "source": [
    "seq_only[:11]"
   ]
  },
  {
   "cell_type": "code",
   "execution_count": 23,
   "metadata": {},
   "outputs": [
    {
     "data": {
      "text/plain": [
       "Seq('TAATTTCCAAA')"
      ]
     },
     "execution_count": 23,
     "metadata": {},
     "output_type": "execute_result"
    }
   ],
   "source": [
    "seq_only[:11].complement()"
   ]
  },
  {
   "cell_type": "markdown",
   "metadata": {},
   "source": [
    "### reverse complement"
   ]
  },
  {
   "cell_type": "code",
   "execution_count": 24,
   "metadata": {},
   "outputs": [
    {
     "data": {
      "text/plain": [
       "Seq('AAACCTTTAAT')"
      ]
     },
     "execution_count": 24,
     "metadata": {},
     "output_type": "execute_result"
    }
   ],
   "source": [
    "seq_only[:11].reverse_complement()"
   ]
  },
  {
   "cell_type": "code",
   "execution_count": 25,
   "metadata": {},
   "outputs": [
    {
     "data": {
      "text/plain": [
       "Seq('TTTTTTTTTT')"
      ]
     },
     "execution_count": 25,
     "metadata": {},
     "output_type": "execute_result"
    }
   ],
   "source": [
    "seq_only[-10:].reverse_complement()"
   ]
  },
  {
   "cell_type": "markdown",
   "metadata": {},
   "source": [
    "## Transcription"
   ]
  },
  {
   "cell_type": "code",
   "execution_count": 26,
   "metadata": {},
   "outputs": [
    {
     "data": {
      "text/plain": [
       "Seq('AUUAAAGGUUUAUACCUUCCCAGGUAACAAACCAACCAACUUUCGAUCUCUUGU...AAA')"
      ]
     },
     "execution_count": 26,
     "metadata": {},
     "output_type": "execute_result"
    }
   ],
   "source": [
    "mRNA=seq_only.transcribe()\n",
    "mRNA"
   ]
  },
  {
   "cell_type": "markdown",
   "metadata": {},
   "source": [
    "### Back_transcription (Reverse transcription)"
   ]
  },
  {
   "cell_type": "code",
   "execution_count": 27,
   "metadata": {},
   "outputs": [
    {
     "data": {
      "text/plain": [
       "True"
      ]
     },
     "execution_count": 27,
     "metadata": {},
     "output_type": "execute_result"
    }
   ],
   "source": [
    "mRNA.back_transcribe()\n",
    "seq_only==mRNA.back_transcribe()"
   ]
  },
  {
   "cell_type": "markdown",
   "metadata": {},
   "source": [
    "## Translation"
   ]
  },
  {
   "cell_type": "code",
   "execution_count": 28,
   "metadata": {},
   "outputs": [
    {
     "name": "stdout",
     "output_type": "stream",
     "text": [
      "Table 1 Standard, SGC0\n",
      "\n",
      "  |  T      |  C      |  A      |  G      |\n",
      "--+---------+---------+---------+---------+--\n",
      "T | TTT F   | TCT S   | TAT Y   | TGT C   | T\n",
      "T | TTC F   | TCC S   | TAC Y   | TGC C   | C\n",
      "T | TTA L   | TCA S   | TAA Stop| TGA Stop| A\n",
      "T | TTG L(s)| TCG S   | TAG Stop| TGG W   | G\n",
      "--+---------+---------+---------+---------+--\n",
      "C | CTT L   | CCT P   | CAT H   | CGT R   | T\n",
      "C | CTC L   | CCC P   | CAC H   | CGC R   | C\n",
      "C | CTA L   | CCA P   | CAA Q   | CGA R   | A\n",
      "C | CTG L(s)| CCG P   | CAG Q   | CGG R   | G\n",
      "--+---------+---------+---------+---------+--\n",
      "A | ATT I   | ACT T   | AAT N   | AGT S   | T\n",
      "A | ATC I   | ACC T   | AAC N   | AGC S   | C\n",
      "A | ATA I   | ACA T   | AAA K   | AGA R   | A\n",
      "A | ATG M(s)| ACG T   | AAG K   | AGG R   | G\n",
      "--+---------+---------+---------+---------+--\n",
      "G | GTT V   | GCT A   | GAT D   | GGT G   | T\n",
      "G | GTC V   | GCC A   | GAC D   | GGC G   | C\n",
      "G | GTA V   | GCA A   | GAA E   | GGA G   | A\n",
      "G | GTG V   | GCG A   | GAG E   | GGG G   | G\n",
      "--+---------+---------+---------+---------+--\n"
     ]
    }
   ],
   "source": [
    "print(CodonTable.unambiguous_dna_by_id[1])"
   ]
  },
  {
   "cell_type": "code",
   "execution_count": 29,
   "metadata": {},
   "outputs": [
    {
     "name": "stderr",
     "output_type": "stream",
     "text": [
      "C:\\Users\\oukle\\Anaconda3\\lib\\site-packages\\Bio\\Seq.py:2338: BiopythonWarning: Partial codon, len(sequence) not a multiple of three. Explicitly trim the sequence or add trailing N before translation. This may become an error in future.\n",
      "  BiopythonWarning,\n"
     ]
    },
    {
     "data": {
      "text/plain": [
       "Seq('IKGLYLPR*Q')"
      ]
     },
     "execution_count": 29,
     "metadata": {},
     "output_type": "execute_result"
    }
   ],
   "source": [
    "protein_seq=seq_only.translate()\n",
    "protein_seq[:10]"
   ]
  },
  {
   "cell_type": "code",
   "execution_count": 30,
   "metadata": {},
   "outputs": [
    {
     "data": {
      "text/plain": [
       "9967"
      ]
     },
     "execution_count": 30,
     "metadata": {},
     "output_type": "execute_result"
    }
   ],
   "source": [
    "len(protein_seq)"
   ]
  },
  {
   "cell_type": "code",
   "execution_count": 31,
   "metadata": {},
   "outputs": [
    {
     "data": {
      "text/plain": [
       "29903"
      ]
     },
     "execution_count": 31,
     "metadata": {},
     "output_type": "execute_result"
    }
   ],
   "source": [
    "len(seq_only)"
   ]
  },
  {
   "cell_type": "code",
   "execution_count": 32,
   "metadata": {},
   "outputs": [],
   "source": [
    "#Can't back transcribe! one a.a can go back several codons"
   ]
  },
  {
   "cell_type": "code",
   "execution_count": 33,
   "metadata": {},
   "outputs": [
    {
     "data": {
      "text/plain": [
       "[('L', 887),\n",
       " ('S', 811),\n",
       " ('*', 774),\n",
       " ('T', 678),\n",
       " ('C', 637),\n",
       " ('F', 592),\n",
       " ('R', 557),\n",
       " ('V', 549),\n",
       " ('Y', 505),\n",
       " ('N', 472)]"
      ]
     },
     "execution_count": 33,
     "metadata": {},
     "output_type": "execute_result"
    }
   ],
   "source": [
    "common_amino= Counter(protein_seq)\n",
    "common_amino.most_common(10)"
   ]
  },
  {
   "cell_type": "code",
   "execution_count": 34,
   "metadata": {},
   "outputs": [
    {
     "data": {
      "text/plain": [
       "Text(0, 0.5, 'Frequencies')"
      ]
     },
     "execution_count": 34,
     "metadata": {},
     "output_type": "execute_result"
    },
    {
     "data": {
      "image/png": "[encoded data removed]",
      "text/plain": [
       "<Figure size 432x288 with 1 Axes>"
      ]
     },
     "metadata": {
      "needs_background": "light"
     },
     "output_type": "display_data"
    }
   ],
   "source": [
    "del common_amino['*']\n",
    "\n",
    "pylab.bar(common_amino.keys(),common_amino.values())\n",
    "pylab.title('Protein sequence frequency')\n",
    "pylab.xlabel('Amino acids')\n",
    "pylab.ylabel('Frequencies')"
   ]
  },
  {
   "cell_type": "code",
   "execution_count": 35,
   "metadata": {},
   "outputs": [
    {
     "data": {
      "text/plain": [
       "['IKGLYLPR',\n",
       " 'QTNQLSISCRSVL',\n",
       " 'TNFKICVAVTRLHA',\n",
       " 'CTHAV',\n",
       " 'LITNYCR',\n",
       " 'QDTSNSSIFCRLLTVSSVLQPIISTSRFRPGVTER',\n",
       " 'DGEPCPWFQRENTRPTQFACFTGSRRARTWLWRLRGGGLIRGTSTS',\n",
       " 'RWHLWLSRS',\n",
       " 'KRRFAST',\n",
       " 'TALCVHQTFGCSNCTSWSCYG']"
      ]
     },
     "execution_count": 35,
     "metadata": {},
     "output_type": "execute_result"
    }
   ],
   "source": [
    "protein_list=[str(i) for i in protein_seq.split('*')]\n",
    "protein_list[:10]"
   ]
  },
  {
   "cell_type": "code",
   "execution_count": 36,
   "metadata": {},
   "outputs": [
    {
     "data": {
      "text/plain": [
       "['QTNQLSISCRSVL',\n",
       " 'TNFKICVAVTRLHA',\n",
       " 'QDTSNSSIFCRLLTVSSVLQPIISTSRFRPGVTER',\n",
       " 'DGEPCPWFQRENTRPTQFACFTGSRRARTWLWRLRGGGLIRGTSTS',\n",
       " 'TALCVHQTFGCSNCTSWSCYG',\n",
       " 'AGSRTRRHSVRS',\n",
       " 'DTWCPCPSCGRNTSGLPQGSSS',\n",
       " 'SFMHFVRTTGLY',\n",
       " 'HLQWGMSKFCISLKFHNQDYSTKG',\n",
       " 'NSICLSSCVTK',\n",
       " 'MQPNVPFNSHEV',\n",
       " 'RRCHYLWLLTPKCCC',\n",
       " 'NLLSSMSQFRSRT',\n",
       " 'GWSHYCLWRLCVLLCWLP',\n",
       " 'PYRCCWRRFRRS',\n",
       " 'NTPKRESQHQYCW',\n",
       " 'RDRHYFGIFFCFHKCFCGNCERFGL',\n",
       " 'TEINTESSLCICIRGCSCCTINFLPHS',\n",
       " 'NCSKFCACFTEGRYNNTRWNFTVFTETH',\n",
       " 'QSSCNGLHYRWCCSVDFAVAN',\n",
       " 'NCRWTNCHLCKGN',\n",
       " 'NICHALKGIVQKVC',\n",
       " 'IQRRNWPTHASKSPKRNYLLRGRNTSHRSVNRGSCLENW',\n",
       " 'RAYVARNQRHRKVLCPCT',\n",
       " 'YDGNKQYLHTQRRCTNKGYFW',\n",
       " 'HCDRSARLQECEYHF',\n",
       " 'VRLCCGRCCHKNFATSI',\n",
       " 'IGFTYVLFFLPSR',\n",
       " 'TFGIWCHFCCSST',\n",
       " 'GQSDNYYSNNC',\n",
       " 'GSTSIRDGTYTSCSDY',\n",
       " 'SARSSTCTIIISWYFWC',\n",
       " 'PYTFFKSLCRYCSHKCLLSCL',\n",
       " 'QTCFKLFGNEE',\n",
       " 'WQSSSRFCHSC',\n",
       " 'HHFLKERCSIYSG',\n",
       " 'CCSRGCFNCCGYTY',\n",
       " 'NASESFEKSANRQLYNHLPGSGFKWLHCRGGKDSA',\n",
       " 'KCLLHSTIYYL',\n",
       " 'EARNSWNCFLEFARNACTCRRNTQINACLCGN',\n",
       " 'NSCYNATWLCNTWLKFGRSCSVYEISQSASYSFCFFT',\n",
       " 'RLVLFWTIYTTRYRIS',\n",
       " 'DTSFFERSEDY',\n",
       " 'PPHASCGHVNDIWTTVWSNLFGWS',\n",
       " 'QLLSCHCIVNTPTNRVEV',\n",
       " 'STCSTRCLLQSKGW',\n",
       " 'RNNELLVSTCQFRFLQKSLERGV',\n",
       " 'GCRSCYVHGHTFL',\n",
       " 'TSYKISSTTGVTFCYDVSTTCSV',\n",
       " 'RNFVLHRRCFTYKVLRIQRSYYGCFLQRKQLHNNHKTSYL',\n",
       " 'ERQFLFHRATN',\n",
       " 'SCTKPTISKCKLR',\n",
       " 'TKYLVYTLSLEHKTS',\n",
       " 'CTEVRGRAGNG',\n",
       " 'RSSGKSYHTERRS',\n",
       " 'CENYRSCRRHYT',\n",
       " 'FKNYRRGWPHRSNGCLCRQF',\n",
       " 'SIRFENPCYSWFSCC',\n",
       " 'HSYTVFKPCLY',\n",
       " 'LYALFLYFIATIVYFY',\n",
       " 'SIYADYYSKEYC',\n",
       " 'TDKYYNLVFTIKCLPRFFNLLNRCFRCFNV',\n",
       " 'FRHAFLLYWLQRRLFELY',\n",
       " 'CHYCNLLYWFYTL',\n",
       " 'WFRFFRHLSFFRNYTNYHFIF',\n",
       " 'MGFNCFWLSCRVVFGIYSFH',\n",
       " 'VFLCTWIGCNHAIVFQLFCSTFY',\n",
       " 'SCTNGPDFSYG',\n",
       " 'NVHLLCIILLCMEKLCACCRRL',\n",
       " 'RLLQTTQLELC',\n",
       " 'CYSEEWFHPSLL',\n",
       " 'RIICKISVCLLQSAYVSTYTVTRSGISV',\n",
       " 'RTNGKTQNTSCNCRS',\n",
       " 'TCKECVLRQCLIYFYFSSSARVC',\n",
       " 'CAGSKKSQHCFDMER',\n",
       " 'SYTCVPFCCCYFLFNNTCSCHV',\n",
       " 'QSLPIDCCSHNKRSGFCRAWFAWHDITHN',\n",
       " 'HLLHTIKTYRVH',\n",
       " 'HTLCAHGWLYYSIS',\n",
       " 'LLQIFTRSFLWCRCCKFTY',\n",
       " 'YVYTTNSTYWCFGHISIYSSWWYCSYRSNMPCLLFYEV',\n",
       " 'YFTIPYVIHCTLFNTSLLILTWCLFCYLLVLDILSY',\n",
       " 'CFFFSTYSVDGYVHTFSTFLDNNCLYHLYFHKAFLLVL',\n",
       " 'LQRSCLLSSRKGSQ',\n",
       " 'CSLPTTTNLYHLSCFAEWF',\n",
       " 'GLYGTSNLWYNYT',\n",
       " 'RSLLSKTCDLHL',\n",
       " 'CSTQGYWTFYAKLCT',\n",
       " 'VCSHSTRTDFFSVSLLQWFTIWCLPMCYEAQFHY',\n",
       " 'LCLFLLHAPYGITNWSSCWHRLRR',\n",
       " 'QANSTSSWYGHNYYS',\n",
       " 'CFSLVVRCCYKWRQVVSQSIYHNS',\n",
       " 'HTRTSFCSNWNCRFRYVCFIKRITAKWYEWTYHIG',\n",
       " 'TMLRCYFPKCSEKNNQGYTPLVVTHNFDFTFSFSPEYSMVFVLFFV',\n",
       " 'KCLFTFCYGYYCYVCFCNDVCQT',\n",
       " 'ACISLFVFVTFSCHCSLF',\n",
       " 'LGDAYYDMVGYG',\n",
       " 'AKRLCYVCISCSVTNPYDSKNCV',\n",
       " 'ESVDTYECLDTRL',\n",
       " 'CFRSSHFHVGSYNLCYF',\n",
       " 'LLRCSYNCHVFGQRYCFYVC',\n",
       " 'YTSVYNASLLFLRLFLYLLLWPLLFTQPLL',\n",
       " 'IYEFTGTTPTQE',\n",
       " 'IVGCWWQTLYQSSHCTV',\n",
       " 'NVRCKVHISSLTLSFATTQSRIII',\n",
       " 'KNGFTTFCFAFHAGCCRHKQAL',\n",
       " 'RNAGQQGNLTSYSLRV',\n",
       " 'FSSIICSFCYCSRSL',\n",
       " 'CTQQHYQQCKRWLCSLEHNTSYNSSQTNGCHTRL',\n",
       " 'WYNIYLCISIVGNPTGCRCR',\n",
       " 'FSMASYCNSFKGQFCCQITE',\n",
       " 'SCCTTTDVLCCRYYTNCLH',\n",
       " 'QCVSLLQHNKGR',\n",
       " 'VCTCTVIRFTGFEMG',\n",
       " 'WNWYYLYRTGTTL',\n",
       " 'CNRSACQFNCIIFLCFCCRCC',\n",
       " 'DVVYTHWYWSGNNSYTGSQYGSRILWWCIVLSVLPLPHRSSKS',\n",
       " 'KHSLYRLRYVERLWL',\n",
       " 'CTIVFKRVCGVSAARLTPCGTGTSTDVVYRAFDIYNDKVAGFAKFLKTNCCRFQEKDEDDNLIDSYFVVKRHTFSNYQHEETIYNLLKDCPAVAKHDFFKFRIDGDMVPHISRQRLTKYTMADLVYALRHFDEGNCDTLKEILVTYNCCDDDYFNKKDWYDFVENPDILRVYANLGERVRQALLKTVQFCDAMRNAGIVGVLTLDNQDLNGNWYDFGDFIQTTPGSGVPVVDSYYSLLMPILTLTRALTAESHVDTDLTKPYIKWDLLKYDFTEERLKLFDRYFKYWDQTYHPNCVNCLDDRCILHCANFNVLFSTVFPPTSFGPLVRKIFVDGVPFVVSTGYHFRELGVVHNQDVNLHSSRLSFKELLVYAADPAMHAASGNLLLDKRTTCFSVAALTNNVAFQTVKPGNFNKDFYDFAVSKGFFKEGSSVELKHFFFAQDGNAAISDYDYYRYNLPTMCDIRQLLFVVEVVDKYFDCYDGGCINANQVIVNNLDKSAGFPFNKWGKARLYYDSMSYEDQDALFAYTKRNVIPTITQMNLKYAISAKNRARTVAGVSICSTMTNRQFHQKLLKSIAATRGATVVIGTSKFYGGWHNMLKTVYSDVENPHLMGWDYPKCDRAMPNMLRIMASLVLARKHTTCCSLSHRFYRLANECAQVLSEMVMCGGSLYVKPGGTSSGDATTAYANSVFNICQAVTANVNALLSTDGNKIADKYVRNLQHRLYECLYRNRDVDTDFVNEFYAYLRKHFSMMILSDDAVVCFNSTYASQGLVASIKNFKSVLYYQNNVFMSEAKCWTETDLTKGPHEFCSQHTMLVKQGDDYVYLPYPDPSRILGAGCFVDDIVKTDGTLMIERFVSLAIDAYPLTKHPNQEYADVFHLYLQYIRKLHDELTGHMLDMYSVMLTNDNTSRYWEPEFYEAMYTPHTVLQAVGACVLCNSQTSLRCGACIRRPFLCCKCCYDHVISTSHKLVLSVNPYVCNAPGCDVTDVTQLYLGGMSYYCKSHKPPISFPLCANGQVFGLYKNTCVGSDNVTDFNAIATCDWTNAGDYILANTCTERLKLFAAETLKATEETFKLSYGIATVREVLSDRELHLSWEVGKPRPPLNRNYVFTGYRVTKNSKVQIGEYTFEKGDYGDAVVYRGTTTYKLNVGDYFVLTSHTVMPLSAPTLVPQEHYVRITGLYPTLNISDEFSSNVANYQKVGMQKYSTLQGPPGTGKSHFAIGLALYYPSARIVYTACSHAAVDALCEKALKYLPIDKCSRIIPARARVECFDKFKVNSTLEQYVFCTVNALPETTADIVVFDEISMATNYDLSVVNARLRAKHYVYIGDPAQLPAPRTLLTKGTLEPEYFNSVCRLMKTIGPDMFLGTCRRCPAEIVDTVSALVYDNKLKAHKDKSAQCFKMFYKGVITHDVSSAINRPQIGVVREFLTRNPAWRKAVFISPYNSQNAVASKILGLPTQTVDSSQGSEYDYVIFTQTTETAHSCNVNRFNVAITRAKVGILCIMSDRDLYDKLQFTSLEIPRRNVATLQAENVTGLFKDCSKVITGLHPTQAPTHLSVDTKFKTEGLCVDIPGIPKDMTYRRLISMMGFKMNYQVNGYPNMFITREEAIRHVRAWIGFDVEGCHATREAVGTNLPLQLGFSTGVNLVAVPTGYVDTPNNTDFSRVSAKPPPGDQFKHLIPLMYKGLPWNVVRIKIVQMLSDTLKNLSDRVVFVLWAHGFELTSMKYFVKIGPERTCCLCDRRATCFSTASDTYACWHHSIGFDYVYNPFMIDVQQWGFTGNLQSNHDLYCQVHGNAHVASCDAIMTRCLAVHECFVKRVDWTIEYPIIGDELKINAACRKVQHMVVKAALLADKFPVLHDIGNPKAIKCVPQADVEWKFYDAQPCSDKAYKIEELFYSYATHSDKFTDGVCLFWNCNVDRYPANSIVCRFDTRVLSNLNLPGCDGGSLYVNKHAFHTPAFDKSAFVNLKQLPFFYYSDSPCESHGKQVVSDIDYVPLKSATCITRCNLGGAVCRHHANEYRLYLDAYNMMISAGFSLWVYKQFDTYNLWNTFTRLQSLENVAFNVVNKGHFDGQQGEVPVSIINNTVYTKVDGVDVELFENKTTLPVNVAFELWAKRNIKPVPEVKILNNLGVDIAANTVIWDYKRDAPAHISTIGVCSMTDIAKKPTETICAPLTVFFDGRVDGQVDLFRNARNGVLITEGSVKGLQPSVGPKQASLNGVTLIGEAVKTQFNYYKKVDGVVQQLPETYFTQSRNLQEFKPRSQMEIDFLELAMDEFIERYKLEGYAFEHIVYGDFSHSQLGGLHLLIGLAKRFKESPFELEDFIPMDSTVKNYFITDAQTGSSKCVCSVIDLLLDDFVEIIKSQDLSVVSKVVKVTIDYTEISFMLWCKDGHVETFYPKLQSSQAWQPGVAMPNLYKMQRMLLEKCDLQNYGDSATLPKGIMMNVAKYTQLCQYLNTLTLAVPYNMRVIHFGAGSDKGVAPGTAVLRQWLPTGMLLVDSDLNDFVSDADSTLIGDCATVHTANKWDLIISDMYDPKTKNVTKENDSKEGFFTYICGFIQQKLALGGSVAIKITEHSWNADLYKLMGHFAWWTAFVTNVNASSSEAFLIGCNYLGKPREQIDGYVMHANYIFWRNTNPIQLSSYSLFDMSKFPLKLRGTAVMSLKEGQINDMILSLLSKGRLIIRENNRVVISSDVLVNN',\n",
       " 'TNNVCFSCFIATSL',\n",
       " 'SYNQNSITPCIH',\n",
       " 'QSFQILSFTFNSGLVLTFLFQCYLVPCYTCLWDQWY',\n",
       " 'HNKRLDFWYYFRFEDPVPTYC',\n",
       " 'SIFGCLLPQKQQKLDGK',\n",
       " 'SPSGFLGFRTIGRFANRY',\n",
       " 'FFFRLDSWCCSLLCGLSST',\n",
       " 'KWNHYRCCRLCT',\n",
       " 'PSLRNKVYVEILHCRKRNLSNF',\n",
       " 'RHQICICLCLEQEENQQLCC',\n",
       " 'SQTNRSRANWKDC',\n",
       " 'LLLSFTIIWFPTH',\n",
       " 'WCWLPTIQSSSTFF',\n",
       " 'TSTCTSNCLWT',\n",
       " 'KQMCQFQLQWFNRHRCSY',\n",
       " 'QKVSAFPTIWQRHC',\n",
       " 'HYTMFFWWCQCYNTRNKYF',\n",
       " 'LHRSPCCYSCRSTYSYLACLFYRF',\n",
       " 'CFSNTCRLFNRG',\n",
       " 'SIHHCLHYVTWCRKFSCLL',\n",
       " 'CYHRNSTSVYDQDISRLYNVHLW',\n",
       " 'MQQSFVAIWQFLYTIKPCFNWNSC',\n",
       " 'TRQKHPRSFCTSQTNLQNTTN',\n",
       " 'FFTNITRSIKTKQEVIY',\n",
       " 'RSTFQQSDTCRCWLHQTIW',\n",
       " 'RPYCFATFAHR',\n",
       " 'NDCSIHFCTVSGYNHFWLDLWCRCCITNTICYANGL',\n",
       " 'CYWQNSRLTFFHSKCTWKTSRCGQPKCTSFKHAC',\n",
       " 'LQFWCNFKCFK',\n",
       " 'VDHRQTSKFADICDSTIN',\n",
       " 'NVRVCTWTIKKS',\n",
       " 'FLWKGLSSYVLPSVSTSWCSLLACDLCPCTRKELHNCSCHLS',\n",
       " 'RCLCFKWHTLVCNTKEFL',\n",
       " 'TTNHYYRQHICVW',\n",
       " 'CCNRNCQQHSL',\n",
       " 'ISHRSPRTWKV',\n",
       " 'AVYKMAMVHLARFYSWLDCHSNGDNYALLYDQLL',\n",
       " 'LSQGLLFLWILLQI',\n",
       " 'ASAQRSQITLHINELMDLFMRIFTIGTVTLKQGEIKDATPSDFVRATATIPIQASLPFGWLIVGVALLAVFQSASKIITLKKRWQLALSKGVHFVCNLLLLFVTVYSHLLLVAAGLEAPFLYLYALVYFLQSINFVRIIMRLLLCWKCRSKNPLLYDANYFLCWHTNCYDYCIPYNSVTSSIVITSGDGTTSPISEHDYQIGGYTEKWESGVKDCVVLHSYFTSDYYQLYSTQLSTDTGVEHVTFFIYNKIVDEPEEHVQIHTIDVSSGVVNPVMEPIYDEPTTTTSVPL',\n",
       " 'AQADEYELMYSFVSEETGTLIVNSVLLFLAFVVFLLVTLAILTAHRLCAYCCNIVNVSLVKPSFYVYSRVKNLNSSRVPDLLV',\n",
       " 'PWQIPTVLLPLKSLKSSLNNGT',\n",
       " 'VSYSLHGFVFYNLPMPTGIGFCI',\n",
       " 'IGSPVELLSQWLVL',\n",
       " 'CGSATSLLLSDCLRVRVPCGHSIQKLTFFSTCHSMALF',\n",
       " 'SFVDIFVLLDTI',\n",
       " 'DAVTSRTCLKKSLLLHHERFLITNWELRSV',\n",
       " 'QVTQVLLHTVATGLATIN',\n",
       " 'TQTIPVAVTILLCLYSK',\n",
       " 'QQMFHLVDFQVTIAEILLIIMRTFKVSIWNLDYIINLIIKNLSKSLTENKYSQLDEEQPMEID',\n",
       " 'TNMKIILFLALITLATCELYHYQECVRGTTVLLKEPCSSGTYEGNSPFHPLADNKFALTCFSTQFAFACPDGVKHVYQLRARSVSPKLFIRQEEVQELYSPIFLIVAAIVFITLCFTLKRKTE',\n",
       " 'LCLLSFGSHLNCKIIMKLVTPKRT',\n",
       " 'LHFTKNVVYSHVLNINHM',\n",
       " 'LMTRVLFTSILNGILE',\n",
       " 'LNCAWMRLVLNHPFSTSISVIIQFPVYLLQLIARNLNWVVL',\n",
       " 'WTPKSAKCTPHYVWWTLRFNWQ',\n",
       " 'PEWRTQWGAIKTTSAPRFTQ',\n",
       " 'YCVLVHRSHSTWQGRP',\n",
       " 'PNWLLPKSYQTNSWW',\n",
       " 'NERSQSKMVFLLPRNWARSWTSLWC',\n",
       " 'GSLEYTKRSHWHPQSC',\n",
       " 'QCCNRATTSSRNNIAKRLLRRREQRRQSSLFSFLIT',\n",
       " 'SQQFKKFNSRQQ',\n",
       " 'SIQCNTSFRQTWSRTNPRKFWGPGTNQTRN',\n",
       " 'LQTLAANCTICPQRFSVLRNVAHWHGSHTFGNVVDLHRCHQIG',\n",
       " 'QRSKFQRSSHFAE',\n",
       " 'NSSLTAETEETANCDSSSCCRFG',\n",
       " 'FLQTIATIHEQC',\n",
       " 'LNSGLNSCRPHKADGLYKRFRFSVYDI',\n",
       " 'SHIAIFNQCVTLGRT',\n",
       " 'KSHHIFTEATRSTIECTVNNARESCLYGRALMCKINFSSAIPM',\n",
       " 'LLRRMTKKKKKKKKKK']"
      ]
     },
     "execution_count": 36,
     "metadata": {},
     "output_type": "execute_result"
    }
   ],
   "source": [
    "large_proteins=[i for i in protein_list if len(i)>10]\n",
    "large_proteins"
   ]
  },
  {
   "cell_type": "code",
   "execution_count": 37,
   "metadata": {},
   "outputs": [],
   "source": [
    "import pandas as pd\n",
    "\n",
    "df=pd.DataFrame({'protein_seq':large_proteins})"
   ]
  },
  {
   "cell_type": "code",
   "execution_count": 38,
   "metadata": {},
   "outputs": [
    {
     "data": {
      "text/html": [
       "<div>\n",
       "<style scoped>\n",
       "    .dataframe tbody tr th:only-of-type {\n",
       "        vertical-align: middle;\n",
       "    }\n",
       "\n",
       "    .dataframe tbody tr th {\n",
       "        vertical-align: top;\n",
       "    }\n",
       "\n",
       "    .dataframe thead th {\n",
       "        text-align: right;\n",
       "    }\n",
       "</style>\n",
       "<table border=\"1\" class=\"dataframe\">\n",
       "  <thead>\n",
       "    <tr style=\"text-align: right;\">\n",
       "      <th></th>\n",
       "      <th>protein_seq</th>\n",
       "    </tr>\n",
       "  </thead>\n",
       "  <tbody>\n",
       "    <tr>\n",
       "      <th>0</th>\n",
       "      <td>QTNQLSISCRSVL</td>\n",
       "    </tr>\n",
       "    <tr>\n",
       "      <th>1</th>\n",
       "      <td>TNFKICVAVTRLHA</td>\n",
       "    </tr>\n",
       "    <tr>\n",
       "      <th>2</th>\n",
       "      <td>QDTSNSSIFCRLLTVSSVLQPIISTSRFRPGVTER</td>\n",
       "    </tr>\n",
       "    <tr>\n",
       "      <th>3</th>\n",
       "      <td>DGEPCPWFQRENTRPTQFACFTGSRRARTWLWRLRGGGLIRGTSTS</td>\n",
       "    </tr>\n",
       "    <tr>\n",
       "      <th>4</th>\n",
       "      <td>TALCVHQTFGCSNCTSWSCYG</td>\n",
       "    </tr>\n",
       "    <tr>\n",
       "      <th>5</th>\n",
       "      <td>AGSRTRRHSVRS</td>\n",
       "    </tr>\n",
       "    <tr>\n",
       "      <th>6</th>\n",
       "      <td>DTWCPCPSCGRNTSGLPQGSSS</td>\n",
       "    </tr>\n",
       "    <tr>\n",
       "      <th>7</th>\n",
       "      <td>SFMHFVRTTGLY</td>\n",
       "    </tr>\n",
       "    <tr>\n",
       "      <th>8</th>\n",
       "      <td>HLQWGMSKFCISLKFHNQDYSTKG</td>\n",
       "    </tr>\n",
       "    <tr>\n",
       "      <th>9</th>\n",
       "      <td>NSICLSSCVTK</td>\n",
       "    </tr>\n",
       "    <tr>\n",
       "      <th>10</th>\n",
       "      <td>MQPNVPFNSHEV</td>\n",
       "    </tr>\n",
       "    <tr>\n",
       "      <th>11</th>\n",
       "      <td>RRCHYLWLLTPKCCC</td>\n",
       "    </tr>\n",
       "    <tr>\n",
       "      <th>12</th>\n",
       "      <td>NLLSSMSQFRSRT</td>\n",
       "    </tr>\n",
       "    <tr>\n",
       "      <th>13</th>\n",
       "      <td>GWSHYCLWRLCVLLCWLP</td>\n",
       "    </tr>\n",
       "    <tr>\n",
       "      <th>14</th>\n",
       "      <td>PYRCCWRRFRRS</td>\n",
       "    </tr>\n",
       "    <tr>\n",
       "      <th>15</th>\n",
       "      <td>NTPKRESQHQYCW</td>\n",
       "    </tr>\n",
       "    <tr>\n",
       "      <th>16</th>\n",
       "      <td>RDRHYFGIFFCFHKCFCGNCERFGL</td>\n",
       "    </tr>\n",
       "    <tr>\n",
       "      <th>17</th>\n",
       "      <td>TEINTESSLCICIRGCSCCTINFLPHS</td>\n",
       "    </tr>\n",
       "    <tr>\n",
       "      <th>18</th>\n",
       "      <td>NCSKFCACFTEGRYNNTRWNFTVFTETH</td>\n",
       "    </tr>\n",
       "    <tr>\n",
       "      <th>19</th>\n",
       "      <td>QSSCNGLHYRWCCSVDFAVAN</td>\n",
       "    </tr>\n",
       "    <tr>\n",
       "      <th>20</th>\n",
       "      <td>NCRWTNCHLCKGN</td>\n",
       "    </tr>\n",
       "    <tr>\n",
       "      <th>21</th>\n",
       "      <td>NICHALKGIVQKVC</td>\n",
       "    </tr>\n",
       "    <tr>\n",
       "      <th>22</th>\n",
       "      <td>IQRRNWPTHASKSPKRNYLLRGRNTSHRSVNRGSCLENW</td>\n",
       "    </tr>\n",
       "    <tr>\n",
       "      <th>23</th>\n",
       "      <td>RAYVARNQRHRKVLCPCT</td>\n",
       "    </tr>\n",
       "    <tr>\n",
       "      <th>24</th>\n",
       "      <td>YDGNKQYLHTQRRCTNKGYFW</td>\n",
       "    </tr>\n",
       "    <tr>\n",
       "      <th>25</th>\n",
       "      <td>HCDRSARLQECEYHF</td>\n",
       "    </tr>\n",
       "    <tr>\n",
       "      <th>26</th>\n",
       "      <td>VRLCCGRCCHKNFATSI</td>\n",
       "    </tr>\n",
       "    <tr>\n",
       "      <th>27</th>\n",
       "      <td>IGFTYVLFFLPSR</td>\n",
       "    </tr>\n",
       "    <tr>\n",
       "      <th>28</th>\n",
       "      <td>TFGIWCHFCCSST</td>\n",
       "    </tr>\n",
       "    <tr>\n",
       "      <th>29</th>\n",
       "      <td>GQSDNYYSNNC</td>\n",
       "    </tr>\n",
       "    <tr>\n",
       "      <th>...</th>\n",
       "      <td>...</td>\n",
       "    </tr>\n",
       "    <tr>\n",
       "      <th>160</th>\n",
       "      <td>VSYSLHGFVFYNLPMPTGIGFCI</td>\n",
       "    </tr>\n",
       "    <tr>\n",
       "      <th>161</th>\n",
       "      <td>IGSPVELLSQWLVL</td>\n",
       "    </tr>\n",
       "    <tr>\n",
       "      <th>162</th>\n",
       "      <td>CGSATSLLLSDCLRVRVPCGHSIQKLTFFSTCHSMALF</td>\n",
       "    </tr>\n",
       "    <tr>\n",
       "      <th>163</th>\n",
       "      <td>SFVDIFVLLDTI</td>\n",
       "    </tr>\n",
       "    <tr>\n",
       "      <th>164</th>\n",
       "      <td>DAVTSRTCLKKSLLLHHERFLITNWELRSV</td>\n",
       "    </tr>\n",
       "    <tr>\n",
       "      <th>165</th>\n",
       "      <td>QVTQVLLHTVATGLATIN</td>\n",
       "    </tr>\n",
       "    <tr>\n",
       "      <th>166</th>\n",
       "      <td>TQTIPVAVTILLCLYSK</td>\n",
       "    </tr>\n",
       "    <tr>\n",
       "      <th>167</th>\n",
       "      <td>QQMFHLVDFQVTIAEILLIIMRTFKVSIWNLDYIINLIIKNLSKSL...</td>\n",
       "    </tr>\n",
       "    <tr>\n",
       "      <th>168</th>\n",
       "      <td>TNMKIILFLALITLATCELYHYQECVRGTTVLLKEPCSSGTYEGNS...</td>\n",
       "    </tr>\n",
       "    <tr>\n",
       "      <th>169</th>\n",
       "      <td>LCLLSFGSHLNCKIIMKLVTPKRT</td>\n",
       "    </tr>\n",
       "    <tr>\n",
       "      <th>170</th>\n",
       "      <td>LHFTKNVVYSHVLNINHM</td>\n",
       "    </tr>\n",
       "    <tr>\n",
       "      <th>171</th>\n",
       "      <td>LMTRVLFTSILNGILE</td>\n",
       "    </tr>\n",
       "    <tr>\n",
       "      <th>172</th>\n",
       "      <td>LNCAWMRLVLNHPFSTSISVIIQFPVYLLQLIARNLNWVVL</td>\n",
       "    </tr>\n",
       "    <tr>\n",
       "      <th>173</th>\n",
       "      <td>WTPKSAKCTPHYVWWTLRFNWQ</td>\n",
       "    </tr>\n",
       "    <tr>\n",
       "      <th>174</th>\n",
       "      <td>PEWRTQWGAIKTTSAPRFTQ</td>\n",
       "    </tr>\n",
       "    <tr>\n",
       "      <th>175</th>\n",
       "      <td>YCVLVHRSHSTWQGRP</td>\n",
       "    </tr>\n",
       "    <tr>\n",
       "      <th>176</th>\n",
       "      <td>PNWLLPKSYQTNSWW</td>\n",
       "    </tr>\n",
       "    <tr>\n",
       "      <th>177</th>\n",
       "      <td>NERSQSKMVFLLPRNWARSWTSLWC</td>\n",
       "    </tr>\n",
       "    <tr>\n",
       "      <th>178</th>\n",
       "      <td>GSLEYTKRSHWHPQSC</td>\n",
       "    </tr>\n",
       "    <tr>\n",
       "      <th>179</th>\n",
       "      <td>QCCNRATTSSRNNIAKRLLRRREQRRQSSLFSFLIT</td>\n",
       "    </tr>\n",
       "    <tr>\n",
       "      <th>180</th>\n",
       "      <td>SQQFKKFNSRQQ</td>\n",
       "    </tr>\n",
       "    <tr>\n",
       "      <th>181</th>\n",
       "      <td>SIQCNTSFRQTWSRTNPRKFWGPGTNQTRN</td>\n",
       "    </tr>\n",
       "    <tr>\n",
       "      <th>182</th>\n",
       "      <td>LQTLAANCTICPQRFSVLRNVAHWHGSHTFGNVVDLHRCHQIG</td>\n",
       "    </tr>\n",
       "    <tr>\n",
       "      <th>183</th>\n",
       "      <td>QRSKFQRSSHFAE</td>\n",
       "    </tr>\n",
       "    <tr>\n",
       "      <th>184</th>\n",
       "      <td>NSSLTAETEETANCDSSSCCRFG</td>\n",
       "    </tr>\n",
       "    <tr>\n",
       "      <th>185</th>\n",
       "      <td>FLQTIATIHEQC</td>\n",
       "    </tr>\n",
       "    <tr>\n",
       "      <th>186</th>\n",
       "      <td>LNSGLNSCRPHKADGLYKRFRFSVYDI</td>\n",
       "    </tr>\n",
       "    <tr>\n",
       "      <th>187</th>\n",
       "      <td>SHIAIFNQCVTLGRT</td>\n",
       "    </tr>\n",
       "    <tr>\n",
       "      <th>188</th>\n",
       "      <td>KSHHIFTEATRSTIECTVNNARESCLYGRALMCKINFSSAIPM</td>\n",
       "    </tr>\n",
       "    <tr>\n",
       "      <th>189</th>\n",
       "      <td>LLRRMTKKKKKKKKKK</td>\n",
       "    </tr>\n",
       "  </tbody>\n",
       "</table>\n",
       "<p>190 rows × 1 columns</p>\n",
       "</div>"
      ],
      "text/plain": [
       "                                           protein_seq\n",
       "0                                        QTNQLSISCRSVL\n",
       "1                                       TNFKICVAVTRLHA\n",
       "2                  QDTSNSSIFCRLLTVSSVLQPIISTSRFRPGVTER\n",
       "3       DGEPCPWFQRENTRPTQFACFTGSRRARTWLWRLRGGGLIRGTSTS\n",
       "4                                TALCVHQTFGCSNCTSWSCYG\n",
       "5                                         AGSRTRRHSVRS\n",
       "6                               DTWCPCPSCGRNTSGLPQGSSS\n",
       "7                                         SFMHFVRTTGLY\n",
       "8                             HLQWGMSKFCISLKFHNQDYSTKG\n",
       "9                                          NSICLSSCVTK\n",
       "10                                        MQPNVPFNSHEV\n",
       "11                                     RRCHYLWLLTPKCCC\n",
       "12                                       NLLSSMSQFRSRT\n",
       "13                                  GWSHYCLWRLCVLLCWLP\n",
       "14                                        PYRCCWRRFRRS\n",
       "15                                       NTPKRESQHQYCW\n",
       "16                           RDRHYFGIFFCFHKCFCGNCERFGL\n",
       "17                         TEINTESSLCICIRGCSCCTINFLPHS\n",
       "18                        NCSKFCACFTEGRYNNTRWNFTVFTETH\n",
       "19                               QSSCNGLHYRWCCSVDFAVAN\n",
       "20                                       NCRWTNCHLCKGN\n",
       "21                                      NICHALKGIVQKVC\n",
       "22             IQRRNWPTHASKSPKRNYLLRGRNTSHRSVNRGSCLENW\n",
       "23                                  RAYVARNQRHRKVLCPCT\n",
       "24                               YDGNKQYLHTQRRCTNKGYFW\n",
       "25                                     HCDRSARLQECEYHF\n",
       "26                                   VRLCCGRCCHKNFATSI\n",
       "27                                       IGFTYVLFFLPSR\n",
       "28                                       TFGIWCHFCCSST\n",
       "29                                         GQSDNYYSNNC\n",
       "..                                                 ...\n",
       "160                            VSYSLHGFVFYNLPMPTGIGFCI\n",
       "161                                     IGSPVELLSQWLVL\n",
       "162             CGSATSLLLSDCLRVRVPCGHSIQKLTFFSTCHSMALF\n",
       "163                                       SFVDIFVLLDTI\n",
       "164                     DAVTSRTCLKKSLLLHHERFLITNWELRSV\n",
       "165                                 QVTQVLLHTVATGLATIN\n",
       "166                                  TQTIPVAVTILLCLYSK\n",
       "167  QQMFHLVDFQVTIAEILLIIMRTFKVSIWNLDYIINLIIKNLSKSL...\n",
       "168  TNMKIILFLALITLATCELYHYQECVRGTTVLLKEPCSSGTYEGNS...\n",
       "169                           LCLLSFGSHLNCKIIMKLVTPKRT\n",
       "170                                 LHFTKNVVYSHVLNINHM\n",
       "171                                   LMTRVLFTSILNGILE\n",
       "172          LNCAWMRLVLNHPFSTSISVIIQFPVYLLQLIARNLNWVVL\n",
       "173                             WTPKSAKCTPHYVWWTLRFNWQ\n",
       "174                               PEWRTQWGAIKTTSAPRFTQ\n",
       "175                                   YCVLVHRSHSTWQGRP\n",
       "176                                    PNWLLPKSYQTNSWW\n",
       "177                          NERSQSKMVFLLPRNWARSWTSLWC\n",
       "178                                   GSLEYTKRSHWHPQSC\n",
       "179               QCCNRATTSSRNNIAKRLLRRREQRRQSSLFSFLIT\n",
       "180                                       SQQFKKFNSRQQ\n",
       "181                     SIQCNTSFRQTWSRTNPRKFWGPGTNQTRN\n",
       "182        LQTLAANCTICPQRFSVLRNVAHWHGSHTFGNVVDLHRCHQIG\n",
       "183                                      QRSKFQRSSHFAE\n",
       "184                            NSSLTAETEETANCDSSSCCRFG\n",
       "185                                       FLQTIATIHEQC\n",
       "186                        LNSGLNSCRPHKADGLYKRFRFSVYDI\n",
       "187                                    SHIAIFNQCVTLGRT\n",
       "188        KSHHIFTEATRSTIECTVNNARESCLYGRALMCKINFSSAIPM\n",
       "189                                   LLRRMTKKKKKKKKKK\n",
       "\n",
       "[190 rows x 1 columns]"
      ]
     },
     "execution_count": 38,
     "metadata": {},
     "output_type": "execute_result"
    }
   ],
   "source": [
    "df"
   ]
  },
  {
   "cell_type": "code",
   "execution_count": 39,
   "metadata": {},
   "outputs": [],
   "source": [
    "df['length']=df.protein_seq.apply(len)"
   ]
  },
  {
   "cell_type": "code",
   "execution_count": 40,
   "metadata": {},
   "outputs": [
    {
     "data": {
      "text/html": [
       "<div>\n",
       "<style scoped>\n",
       "    .dataframe tbody tr th:only-of-type {\n",
       "        vertical-align: middle;\n",
       "    }\n",
       "\n",
       "    .dataframe tbody tr th {\n",
       "        vertical-align: top;\n",
       "    }\n",
       "\n",
       "    .dataframe thead th {\n",
       "        text-align: right;\n",
       "    }\n",
       "</style>\n",
       "<table border=\"1\" class=\"dataframe\">\n",
       "  <thead>\n",
       "    <tr style=\"text-align: right;\">\n",
       "      <th></th>\n",
       "      <th>protein_seq</th>\n",
       "      <th>length</th>\n",
       "    </tr>\n",
       "  </thead>\n",
       "  <tbody>\n",
       "    <tr>\n",
       "      <th>0</th>\n",
       "      <td>QTNQLSISCRSVL</td>\n",
       "      <td>13</td>\n",
       "    </tr>\n",
       "    <tr>\n",
       "      <th>1</th>\n",
       "      <td>TNFKICVAVTRLHA</td>\n",
       "      <td>14</td>\n",
       "    </tr>\n",
       "    <tr>\n",
       "      <th>2</th>\n",
       "      <td>QDTSNSSIFCRLLTVSSVLQPIISTSRFRPGVTER</td>\n",
       "      <td>35</td>\n",
       "    </tr>\n",
       "    <tr>\n",
       "      <th>3</th>\n",
       "      <td>DGEPCPWFQRENTRPTQFACFTGSRRARTWLWRLRGGGLIRGTSTS</td>\n",
       "      <td>46</td>\n",
       "    </tr>\n",
       "    <tr>\n",
       "      <th>4</th>\n",
       "      <td>TALCVHQTFGCSNCTSWSCYG</td>\n",
       "      <td>21</td>\n",
       "    </tr>\n",
       "    <tr>\n",
       "      <th>5</th>\n",
       "      <td>AGSRTRRHSVRS</td>\n",
       "      <td>12</td>\n",
       "    </tr>\n",
       "    <tr>\n",
       "      <th>6</th>\n",
       "      <td>DTWCPCPSCGRNTSGLPQGSSS</td>\n",
       "      <td>22</td>\n",
       "    </tr>\n",
       "    <tr>\n",
       "      <th>7</th>\n",
       "      <td>SFMHFVRTTGLY</td>\n",
       "      <td>12</td>\n",
       "    </tr>\n",
       "    <tr>\n",
       "      <th>8</th>\n",
       "      <td>HLQWGMSKFCISLKFHNQDYSTKG</td>\n",
       "      <td>24</td>\n",
       "    </tr>\n",
       "    <tr>\n",
       "      <th>9</th>\n",
       "      <td>NSICLSSCVTK</td>\n",
       "      <td>11</td>\n",
       "    </tr>\n",
       "    <tr>\n",
       "      <th>10</th>\n",
       "      <td>MQPNVPFNSHEV</td>\n",
       "      <td>12</td>\n",
       "    </tr>\n",
       "    <tr>\n",
       "      <th>11</th>\n",
       "      <td>RRCHYLWLLTPKCCC</td>\n",
       "      <td>15</td>\n",
       "    </tr>\n",
       "    <tr>\n",
       "      <th>12</th>\n",
       "      <td>NLLSSMSQFRSRT</td>\n",
       "      <td>13</td>\n",
       "    </tr>\n",
       "    <tr>\n",
       "      <th>13</th>\n",
       "      <td>GWSHYCLWRLCVLLCWLP</td>\n",
       "      <td>18</td>\n",
       "    </tr>\n",
       "    <tr>\n",
       "      <th>14</th>\n",
       "      <td>PYRCCWRRFRRS</td>\n",
       "      <td>12</td>\n",
       "    </tr>\n",
       "    <tr>\n",
       "      <th>15</th>\n",
       "      <td>NTPKRESQHQYCW</td>\n",
       "      <td>13</td>\n",
       "    </tr>\n",
       "    <tr>\n",
       "      <th>16</th>\n",
       "      <td>RDRHYFGIFFCFHKCFCGNCERFGL</td>\n",
       "      <td>25</td>\n",
       "    </tr>\n",
       "    <tr>\n",
       "      <th>17</th>\n",
       "      <td>TEINTESSLCICIRGCSCCTINFLPHS</td>\n",
       "      <td>27</td>\n",
       "    </tr>\n",
       "    <tr>\n",
       "      <th>18</th>\n",
       "      <td>NCSKFCACFTEGRYNNTRWNFTVFTETH</td>\n",
       "      <td>28</td>\n",
       "    </tr>\n",
       "    <tr>\n",
       "      <th>19</th>\n",
       "      <td>QSSCNGLHYRWCCSVDFAVAN</td>\n",
       "      <td>21</td>\n",
       "    </tr>\n",
       "    <tr>\n",
       "      <th>20</th>\n",
       "      <td>NCRWTNCHLCKGN</td>\n",
       "      <td>13</td>\n",
       "    </tr>\n",
       "    <tr>\n",
       "      <th>21</th>\n",
       "      <td>NICHALKGIVQKVC</td>\n",
       "      <td>14</td>\n",
       "    </tr>\n",
       "    <tr>\n",
       "      <th>22</th>\n",
       "      <td>IQRRNWPTHASKSPKRNYLLRGRNTSHRSVNRGSCLENW</td>\n",
       "      <td>39</td>\n",
       "    </tr>\n",
       "    <tr>\n",
       "      <th>23</th>\n",
       "      <td>RAYVARNQRHRKVLCPCT</td>\n",
       "      <td>18</td>\n",
       "    </tr>\n",
       "    <tr>\n",
       "      <th>24</th>\n",
       "      <td>YDGNKQYLHTQRRCTNKGYFW</td>\n",
       "      <td>21</td>\n",
       "    </tr>\n",
       "    <tr>\n",
       "      <th>25</th>\n",
       "      <td>HCDRSARLQECEYHF</td>\n",
       "      <td>15</td>\n",
       "    </tr>\n",
       "    <tr>\n",
       "      <th>26</th>\n",
       "      <td>VRLCCGRCCHKNFATSI</td>\n",
       "      <td>17</td>\n",
       "    </tr>\n",
       "    <tr>\n",
       "      <th>27</th>\n",
       "      <td>IGFTYVLFFLPSR</td>\n",
       "      <td>13</td>\n",
       "    </tr>\n",
       "    <tr>\n",
       "      <th>28</th>\n",
       "      <td>TFGIWCHFCCSST</td>\n",
       "      <td>13</td>\n",
       "    </tr>\n",
       "    <tr>\n",
       "      <th>29</th>\n",
       "      <td>GQSDNYYSNNC</td>\n",
       "      <td>11</td>\n",
       "    </tr>\n",
       "    <tr>\n",
       "      <th>...</th>\n",
       "      <td>...</td>\n",
       "      <td>...</td>\n",
       "    </tr>\n",
       "    <tr>\n",
       "      <th>160</th>\n",
       "      <td>VSYSLHGFVFYNLPMPTGIGFCI</td>\n",
       "      <td>23</td>\n",
       "    </tr>\n",
       "    <tr>\n",
       "      <th>161</th>\n",
       "      <td>IGSPVELLSQWLVL</td>\n",
       "      <td>14</td>\n",
       "    </tr>\n",
       "    <tr>\n",
       "      <th>162</th>\n",
       "      <td>CGSATSLLLSDCLRVRVPCGHSIQKLTFFSTCHSMALF</td>\n",
       "      <td>38</td>\n",
       "    </tr>\n",
       "    <tr>\n",
       "      <th>163</th>\n",
       "      <td>SFVDIFVLLDTI</td>\n",
       "      <td>12</td>\n",
       "    </tr>\n",
       "    <tr>\n",
       "      <th>164</th>\n",
       "      <td>DAVTSRTCLKKSLLLHHERFLITNWELRSV</td>\n",
       "      <td>30</td>\n",
       "    </tr>\n",
       "    <tr>\n",
       "      <th>165</th>\n",
       "      <td>QVTQVLLHTVATGLATIN</td>\n",
       "      <td>18</td>\n",
       "    </tr>\n",
       "    <tr>\n",
       "      <th>166</th>\n",
       "      <td>TQTIPVAVTILLCLYSK</td>\n",
       "      <td>17</td>\n",
       "    </tr>\n",
       "    <tr>\n",
       "      <th>167</th>\n",
       "      <td>QQMFHLVDFQVTIAEILLIIMRTFKVSIWNLDYIINLIIKNLSKSL...</td>\n",
       "      <td>63</td>\n",
       "    </tr>\n",
       "    <tr>\n",
       "      <th>168</th>\n",
       "      <td>TNMKIILFLALITLATCELYHYQECVRGTTVLLKEPCSSGTYEGNS...</td>\n",
       "      <td>123</td>\n",
       "    </tr>\n",
       "    <tr>\n",
       "      <th>169</th>\n",
       "      <td>LCLLSFGSHLNCKIIMKLVTPKRT</td>\n",
       "      <td>24</td>\n",
       "    </tr>\n",
       "    <tr>\n",
       "      <th>170</th>\n",
       "      <td>LHFTKNVVYSHVLNINHM</td>\n",
       "      <td>18</td>\n",
       "    </tr>\n",
       "    <tr>\n",
       "      <th>171</th>\n",
       "      <td>LMTRVLFTSILNGILE</td>\n",
       "      <td>16</td>\n",
       "    </tr>\n",
       "    <tr>\n",
       "      <th>172</th>\n",
       "      <td>LNCAWMRLVLNHPFSTSISVIIQFPVYLLQLIARNLNWVVL</td>\n",
       "      <td>41</td>\n",
       "    </tr>\n",
       "    <tr>\n",
       "      <th>173</th>\n",
       "      <td>WTPKSAKCTPHYVWWTLRFNWQ</td>\n",
       "      <td>22</td>\n",
       "    </tr>\n",
       "    <tr>\n",
       "      <th>174</th>\n",
       "      <td>PEWRTQWGAIKTTSAPRFTQ</td>\n",
       "      <td>20</td>\n",
       "    </tr>\n",
       "    <tr>\n",
       "      <th>175</th>\n",
       "      <td>YCVLVHRSHSTWQGRP</td>\n",
       "      <td>16</td>\n",
       "    </tr>\n",
       "    <tr>\n",
       "      <th>176</th>\n",
       "      <td>PNWLLPKSYQTNSWW</td>\n",
       "      <td>15</td>\n",
       "    </tr>\n",
       "    <tr>\n",
       "      <th>177</th>\n",
       "      <td>NERSQSKMVFLLPRNWARSWTSLWC</td>\n",
       "      <td>25</td>\n",
       "    </tr>\n",
       "    <tr>\n",
       "      <th>178</th>\n",
       "      <td>GSLEYTKRSHWHPQSC</td>\n",
       "      <td>16</td>\n",
       "    </tr>\n",
       "    <tr>\n",
       "      <th>179</th>\n",
       "      <td>QCCNRATTSSRNNIAKRLLRRREQRRQSSLFSFLIT</td>\n",
       "      <td>36</td>\n",
       "    </tr>\n",
       "    <tr>\n",
       "      <th>180</th>\n",
       "      <td>SQQFKKFNSRQQ</td>\n",
       "      <td>12</td>\n",
       "    </tr>\n",
       "    <tr>\n",
       "      <th>181</th>\n",
       "      <td>SIQCNTSFRQTWSRTNPRKFWGPGTNQTRN</td>\n",
       "      <td>30</td>\n",
       "    </tr>\n",
       "    <tr>\n",
       "      <th>182</th>\n",
       "      <td>LQTLAANCTICPQRFSVLRNVAHWHGSHTFGNVVDLHRCHQIG</td>\n",
       "      <td>43</td>\n",
       "    </tr>\n",
       "    <tr>\n",
       "      <th>183</th>\n",
       "      <td>QRSKFQRSSHFAE</td>\n",
       "      <td>13</td>\n",
       "    </tr>\n",
       "    <tr>\n",
       "      <th>184</th>\n",
       "      <td>NSSLTAETEETANCDSSSCCRFG</td>\n",
       "      <td>23</td>\n",
       "    </tr>\n",
       "    <tr>\n",
       "      <th>185</th>\n",
       "      <td>FLQTIATIHEQC</td>\n",
       "      <td>12</td>\n",
       "    </tr>\n",
       "    <tr>\n",
       "      <th>186</th>\n",
       "      <td>LNSGLNSCRPHKADGLYKRFRFSVYDI</td>\n",
       "      <td>27</td>\n",
       "    </tr>\n",
       "    <tr>\n",
       "      <th>187</th>\n",
       "      <td>SHIAIFNQCVTLGRT</td>\n",
       "      <td>15</td>\n",
       "    </tr>\n",
       "    <tr>\n",
       "      <th>188</th>\n",
       "      <td>KSHHIFTEATRSTIECTVNNARESCLYGRALMCKINFSSAIPM</td>\n",
       "      <td>43</td>\n",
       "    </tr>\n",
       "    <tr>\n",
       "      <th>189</th>\n",
       "      <td>LLRRMTKKKKKKKKKK</td>\n",
       "      <td>16</td>\n",
       "    </tr>\n",
       "  </tbody>\n",
       "</table>\n",
       "<p>190 rows × 2 columns</p>\n",
       "</div>"
      ],
      "text/plain": [
       "                                           protein_seq  length\n",
       "0                                        QTNQLSISCRSVL      13\n",
       "1                                       TNFKICVAVTRLHA      14\n",
       "2                  QDTSNSSIFCRLLTVSSVLQPIISTSRFRPGVTER      35\n",
       "3       DGEPCPWFQRENTRPTQFACFTGSRRARTWLWRLRGGGLIRGTSTS      46\n",
       "4                                TALCVHQTFGCSNCTSWSCYG      21\n",
       "5                                         AGSRTRRHSVRS      12\n",
       "6                               DTWCPCPSCGRNTSGLPQGSSS      22\n",
       "7                                         SFMHFVRTTGLY      12\n",
       "8                             HLQWGMSKFCISLKFHNQDYSTKG      24\n",
       "9                                          NSICLSSCVTK      11\n",
       "10                                        MQPNVPFNSHEV      12\n",
       "11                                     RRCHYLWLLTPKCCC      15\n",
       "12                                       NLLSSMSQFRSRT      13\n",
       "13                                  GWSHYCLWRLCVLLCWLP      18\n",
       "14                                        PYRCCWRRFRRS      12\n",
       "15                                       NTPKRESQHQYCW      13\n",
       "16                           RDRHYFGIFFCFHKCFCGNCERFGL      25\n",
       "17                         TEINTESSLCICIRGCSCCTINFLPHS      27\n",
       "18                        NCSKFCACFTEGRYNNTRWNFTVFTETH      28\n",
       "19                               QSSCNGLHYRWCCSVDFAVAN      21\n",
       "20                                       NCRWTNCHLCKGN      13\n",
       "21                                      NICHALKGIVQKVC      14\n",
       "22             IQRRNWPTHASKSPKRNYLLRGRNTSHRSVNRGSCLENW      39\n",
       "23                                  RAYVARNQRHRKVLCPCT      18\n",
       "24                               YDGNKQYLHTQRRCTNKGYFW      21\n",
       "25                                     HCDRSARLQECEYHF      15\n",
       "26                                   VRLCCGRCCHKNFATSI      17\n",
       "27                                       IGFTYVLFFLPSR      13\n",
       "28                                       TFGIWCHFCCSST      13\n",
       "29                                         GQSDNYYSNNC      11\n",
       "..                                                 ...     ...\n",
       "160                            VSYSLHGFVFYNLPMPTGIGFCI      23\n",
       "161                                     IGSPVELLSQWLVL      14\n",
       "162             CGSATSLLLSDCLRVRVPCGHSIQKLTFFSTCHSMALF      38\n",
       "163                                       SFVDIFVLLDTI      12\n",
       "164                     DAVTSRTCLKKSLLLHHERFLITNWELRSV      30\n",
       "165                                 QVTQVLLHTVATGLATIN      18\n",
       "166                                  TQTIPVAVTILLCLYSK      17\n",
       "167  QQMFHLVDFQVTIAEILLIIMRTFKVSIWNLDYIINLIIKNLSKSL...      63\n",
       "168  TNMKIILFLALITLATCELYHYQECVRGTTVLLKEPCSSGTYEGNS...     123\n",
       "169                           LCLLSFGSHLNCKIIMKLVTPKRT      24\n",
       "170                                 LHFTKNVVYSHVLNINHM      18\n",
       "171                                   LMTRVLFTSILNGILE      16\n",
       "172          LNCAWMRLVLNHPFSTSISVIIQFPVYLLQLIARNLNWVVL      41\n",
       "173                             WTPKSAKCTPHYVWWTLRFNWQ      22\n",
       "174                               PEWRTQWGAIKTTSAPRFTQ      20\n",
       "175                                   YCVLVHRSHSTWQGRP      16\n",
       "176                                    PNWLLPKSYQTNSWW      15\n",
       "177                          NERSQSKMVFLLPRNWARSWTSLWC      25\n",
       "178                                   GSLEYTKRSHWHPQSC      16\n",
       "179               QCCNRATTSSRNNIAKRLLRRREQRRQSSLFSFLIT      36\n",
       "180                                       SQQFKKFNSRQQ      12\n",
       "181                     SIQCNTSFRQTWSRTNPRKFWGPGTNQTRN      30\n",
       "182        LQTLAANCTICPQRFSVLRNVAHWHGSHTFGNVVDLHRCHQIG      43\n",
       "183                                      QRSKFQRSSHFAE      13\n",
       "184                            NSSLTAETEETANCDSSSCCRFG      23\n",
       "185                                       FLQTIATIHEQC      12\n",
       "186                        LNSGLNSCRPHKADGLYKRFRFSVYDI      27\n",
       "187                                    SHIAIFNQCVTLGRT      15\n",
       "188        KSHHIFTEATRSTIECTVNNARESCLYGRALMCKINFSSAIPM      43\n",
       "189                                   LLRRMTKKKKKKKKKK      16\n",
       "\n",
       "[190 rows x 2 columns]"
      ]
     },
     "execution_count": 40,
     "metadata": {},
     "output_type": "execute_result"
    }
   ],
   "source": [
    "df"
   ]
  },
  {
   "cell_type": "code",
   "execution_count": 41,
   "metadata": {},
   "outputs": [
    {
     "data": {
      "text/html": [
       "<div>\n",
       "<style scoped>\n",
       "    .dataframe tbody tr th:only-of-type {\n",
       "        vertical-align: middle;\n",
       "    }\n",
       "\n",
       "    .dataframe tbody tr th {\n",
       "        vertical-align: top;\n",
       "    }\n",
       "\n",
       "    .dataframe thead th {\n",
       "        text-align: right;\n",
       "    }\n",
       "</style>\n",
       "<table border=\"1\" class=\"dataframe\">\n",
       "  <thead>\n",
       "    <tr style=\"text-align: right;\">\n",
       "      <th></th>\n",
       "      <th>protein_seq</th>\n",
       "      <th>length</th>\n",
       "    </tr>\n",
       "  </thead>\n",
       "  <tbody>\n",
       "    <tr>\n",
       "      <th>118</th>\n",
       "      <td>CTIVFKRVCGVSAARLTPCGTGTSTDVVYRAFDIYNDKVAGFAKFL...</td>\n",
       "      <td>2701</td>\n",
       "    </tr>\n",
       "    <tr>\n",
       "      <th>157</th>\n",
       "      <td>ASAQRSQITLHINELMDLFMRIFTIGTVTLKQGEIKDATPSDFVRA...</td>\n",
       "      <td>290</td>\n",
       "    </tr>\n",
       "    <tr>\n",
       "      <th>168</th>\n",
       "      <td>TNMKIILFLALITLATCELYHYQECVRGTTVLLKEPCSSGTYEGNS...</td>\n",
       "      <td>123</td>\n",
       "    </tr>\n",
       "    <tr>\n",
       "      <th>158</th>\n",
       "      <td>AQADEYELMYSFVSEETGTLIVNSVLLFLAFVVFLLVTLAILTAHR...</td>\n",
       "      <td>83</td>\n",
       "    </tr>\n",
       "    <tr>\n",
       "      <th>167</th>\n",
       "      <td>QQMFHLVDFQVTIAEILLIIMRTFKVSIWNLDYIINLIIKNLSKSL...</td>\n",
       "      <td>63</td>\n",
       "    </tr>\n",
       "    <tr>\n",
       "      <th>3</th>\n",
       "      <td>DGEPCPWFQRENTRPTQFACFTGSRRARTWLWRLRGGGLIRGTSTS</td>\n",
       "      <td>46</td>\n",
       "    </tr>\n",
       "    <tr>\n",
       "      <th>93</th>\n",
       "      <td>TMLRCYFPKCSEKNNQGYTPLVVTHNFDFTFSFSPEYSMVFVLFFV</td>\n",
       "      <td>46</td>\n",
       "    </tr>\n",
       "    <tr>\n",
       "      <th>188</th>\n",
       "      <td>KSHHIFTEATRSTIECTVNNARESCLYGRALMCKINFSSAIPM</td>\n",
       "      <td>43</td>\n",
       "    </tr>\n",
       "    <tr>\n",
       "      <th>116</th>\n",
       "      <td>DVVYTHWYWSGNNSYTGSQYGSRILWWCIVLSVLPLPHRSSKS</td>\n",
       "      <td>43</td>\n",
       "    </tr>\n",
       "    <tr>\n",
       "      <th>182</th>\n",
       "      <td>LQTLAANCTICPQRFSVLRNVAHWHGSHTFGNVVDLHRCHQIG</td>\n",
       "      <td>43</td>\n",
       "    </tr>\n",
       "    <tr>\n",
       "      <th>150</th>\n",
       "      <td>FLWKGLSSYVLPSVSTSWCSLLACDLCPCTRKELHNCSCHLS</td>\n",
       "      <td>42</td>\n",
       "    </tr>\n",
       "    <tr>\n",
       "      <th>172</th>\n",
       "      <td>LNCAWMRLVLNHPFSTSISVIIQFPVYLLQLIARNLNWVVL</td>\n",
       "      <td>41</td>\n",
       "    </tr>\n",
       "    <tr>\n",
       "      <th>49</th>\n",
       "      <td>RNFVLHRRCFTYKVLRIQRSYYGCFLQRKQLHNNHKTSYL</td>\n",
       "      <td>40</td>\n",
       "    </tr>\n",
       "    <tr>\n",
       "      <th>22</th>\n",
       "      <td>IQRRNWPTHASKSPKRNYLLRGRNTSHRSVNRGSCLENW</td>\n",
       "      <td>39</td>\n",
       "    </tr>\n",
       "    <tr>\n",
       "      <th>162</th>\n",
       "      <td>CGSATSLLLSDCLRVRVPCGHSIQKLTFFSTCHSMALF</td>\n",
       "      <td>38</td>\n",
       "    </tr>\n",
       "    <tr>\n",
       "      <th>82</th>\n",
       "      <td>CFFFSTYSVDGYVHTFSTFLDNNCLYHLYFHKAFLLVL</td>\n",
       "      <td>38</td>\n",
       "    </tr>\n",
       "    <tr>\n",
       "      <th>80</th>\n",
       "      <td>YVYTTNSTYWCFGHISIYSSWWYCSYRSNMPCLLFYEV</td>\n",
       "      <td>38</td>\n",
       "    </tr>\n",
       "    <tr>\n",
       "      <th>40</th>\n",
       "      <td>NSCYNATWLCNTWLKFGRSCSVYEISQSASYSFCFFT</td>\n",
       "      <td>37</td>\n",
       "    </tr>\n",
       "    <tr>\n",
       "      <th>121</th>\n",
       "      <td>QSFQILSFTFNSGLVLTFLFQCYLVPCYTCLWDQWY</td>\n",
       "      <td>36</td>\n",
       "    </tr>\n",
       "    <tr>\n",
       "      <th>179</th>\n",
       "      <td>QCCNRATTSSRNNIAKRLLRRREQRRQSSLFSFLIT</td>\n",
       "      <td>36</td>\n",
       "    </tr>\n",
       "    <tr>\n",
       "      <th>81</th>\n",
       "      <td>YFTIPYVIHCTLFNTSLLILTWCLFCYLLVLDILSY</td>\n",
       "      <td>36</td>\n",
       "    </tr>\n",
       "    <tr>\n",
       "      <th>145</th>\n",
       "      <td>NDCSIHFCTVSGYNHFWLDLWCRCCITNTICYANGL</td>\n",
       "      <td>36</td>\n",
       "    </tr>\n",
       "    <tr>\n",
       "      <th>2</th>\n",
       "      <td>QDTSNSSIFCRLLTVSSVLQPIISTSRFRPGVTER</td>\n",
       "      <td>35</td>\n",
       "    </tr>\n",
       "    <tr>\n",
       "      <th>37</th>\n",
       "      <td>NASESFEKSANRQLYNHLPGSGFKWLHCRGGKDSA</td>\n",
       "      <td>35</td>\n",
       "    </tr>\n",
       "    <tr>\n",
       "      <th>92</th>\n",
       "      <td>HTRTSFCSNWNCRFRYVCFIKRITAKWYEWTYHIG</td>\n",
       "      <td>35</td>\n",
       "    </tr>\n",
       "    <tr>\n",
       "      <th>155</th>\n",
       "      <td>AVYKMAMVHLARFYSWLDCHSNGDNYALLYDQLL</td>\n",
       "      <td>34</td>\n",
       "    </tr>\n",
       "    <tr>\n",
       "      <th>108</th>\n",
       "      <td>CTQQHYQQCKRWLCSLEHNTSYNSSQTNGCHTRL</td>\n",
       "      <td>34</td>\n",
       "    </tr>\n",
       "    <tr>\n",
       "      <th>146</th>\n",
       "      <td>CYWQNSRLTFFHSKCTWKTSRCGQPKCTSFKHAC</td>\n",
       "      <td>34</td>\n",
       "    </tr>\n",
       "    <tr>\n",
       "      <th>88</th>\n",
       "      <td>VCSHSTRTDFFSVSLLQWFTIWCLPMCYEAQFHY</td>\n",
       "      <td>34</td>\n",
       "    </tr>\n",
       "    <tr>\n",
       "      <th>39</th>\n",
       "      <td>EARNSWNCFLEFARNACTCRRNTQINACLCGN</td>\n",
       "      <td>32</td>\n",
       "    </tr>\n",
       "    <tr>\n",
       "      <th>...</th>\n",
       "      <td>...</td>\n",
       "      <td>...</td>\n",
       "    </tr>\n",
       "    <tr>\n",
       "      <th>102</th>\n",
       "      <td>IYEFTGTTPTQE</td>\n",
       "      <td>12</td>\n",
       "    </tr>\n",
       "    <tr>\n",
       "      <th>14</th>\n",
       "      <td>PYRCCWRRFRRS</td>\n",
       "      <td>12</td>\n",
       "    </tr>\n",
       "    <tr>\n",
       "      <th>96</th>\n",
       "      <td>LGDAYYDMVGYG</td>\n",
       "      <td>12</td>\n",
       "    </tr>\n",
       "    <tr>\n",
       "      <th>120</th>\n",
       "      <td>SYNQNSITPCIH</td>\n",
       "      <td>12</td>\n",
       "    </tr>\n",
       "    <tr>\n",
       "      <th>86</th>\n",
       "      <td>RSLLSKTCDLHL</td>\n",
       "      <td>12</td>\n",
       "    </tr>\n",
       "    <tr>\n",
       "      <th>5</th>\n",
       "      <td>AGSRTRRHSVRS</td>\n",
       "      <td>12</td>\n",
       "    </tr>\n",
       "    <tr>\n",
       "      <th>126</th>\n",
       "      <td>KWNHYRCCRLCT</td>\n",
       "      <td>12</td>\n",
       "    </tr>\n",
       "    <tr>\n",
       "      <th>77</th>\n",
       "      <td>HLLHTIKTYRVH</td>\n",
       "      <td>12</td>\n",
       "    </tr>\n",
       "    <tr>\n",
       "      <th>149</th>\n",
       "      <td>NVRVCTWTIKKS</td>\n",
       "      <td>12</td>\n",
       "    </tr>\n",
       "    <tr>\n",
       "      <th>55</th>\n",
       "      <td>CENYRSCRRHYT</td>\n",
       "      <td>12</td>\n",
       "    </tr>\n",
       "    <tr>\n",
       "      <th>70</th>\n",
       "      <td>CYSEEWFHPSLL</td>\n",
       "      <td>12</td>\n",
       "    </tr>\n",
       "    <tr>\n",
       "      <th>163</th>\n",
       "      <td>SFVDIFVLLDTI</td>\n",
       "      <td>12</td>\n",
       "    </tr>\n",
       "    <tr>\n",
       "      <th>137</th>\n",
       "      <td>CFSNTCRLFNRG</td>\n",
       "      <td>12</td>\n",
       "    </tr>\n",
       "    <tr>\n",
       "      <th>60</th>\n",
       "      <td>SIYADYYSKEYC</td>\n",
       "      <td>12</td>\n",
       "    </tr>\n",
       "    <tr>\n",
       "      <th>53</th>\n",
       "      <td>CTEVRGRAGNG</td>\n",
       "      <td>11</td>\n",
       "    </tr>\n",
       "    <tr>\n",
       "      <th>50</th>\n",
       "      <td>ERQFLFHRATN</td>\n",
       "      <td>11</td>\n",
       "    </tr>\n",
       "    <tr>\n",
       "      <th>144</th>\n",
       "      <td>RPYCFATFAHR</td>\n",
       "      <td>11</td>\n",
       "    </tr>\n",
       "    <tr>\n",
       "      <th>153</th>\n",
       "      <td>CCNRNCQQHSL</td>\n",
       "      <td>11</td>\n",
       "    </tr>\n",
       "    <tr>\n",
       "      <th>154</th>\n",
       "      <td>ISHRSPRTWKV</td>\n",
       "      <td>11</td>\n",
       "    </tr>\n",
       "    <tr>\n",
       "      <th>9</th>\n",
       "      <td>NSICLSSCVTK</td>\n",
       "      <td>11</td>\n",
       "    </tr>\n",
       "    <tr>\n",
       "      <th>58</th>\n",
       "      <td>HSYTVFKPCLY</td>\n",
       "      <td>11</td>\n",
       "    </tr>\n",
       "    <tr>\n",
       "      <th>42</th>\n",
       "      <td>DTSFFERSEDY</td>\n",
       "      <td>11</td>\n",
       "    </tr>\n",
       "    <tr>\n",
       "      <th>67</th>\n",
       "      <td>SCTNGPDFSYG</td>\n",
       "      <td>11</td>\n",
       "    </tr>\n",
       "    <tr>\n",
       "      <th>29</th>\n",
       "      <td>GQSDNYYSNNC</td>\n",
       "      <td>11</td>\n",
       "    </tr>\n",
       "    <tr>\n",
       "      <th>69</th>\n",
       "      <td>RLLQTTQLELC</td>\n",
       "      <td>11</td>\n",
       "    </tr>\n",
       "    <tr>\n",
       "      <th>38</th>\n",
       "      <td>KCLLHSTIYYL</td>\n",
       "      <td>11</td>\n",
       "    </tr>\n",
       "    <tr>\n",
       "      <th>132</th>\n",
       "      <td>TSTCTSNCLWT</td>\n",
       "      <td>11</td>\n",
       "    </tr>\n",
       "    <tr>\n",
       "      <th>34</th>\n",
       "      <td>WQSSSRFCHSC</td>\n",
       "      <td>11</td>\n",
       "    </tr>\n",
       "    <tr>\n",
       "      <th>33</th>\n",
       "      <td>QTCFKLFGNEE</td>\n",
       "      <td>11</td>\n",
       "    </tr>\n",
       "    <tr>\n",
       "      <th>147</th>\n",
       "      <td>LQFWCNFKCFK</td>\n",
       "      <td>11</td>\n",
       "    </tr>\n",
       "  </tbody>\n",
       "</table>\n",
       "<p>190 rows × 2 columns</p>\n",
       "</div>"
      ],
      "text/plain": [
       "                                           protein_seq  length\n",
       "118  CTIVFKRVCGVSAARLTPCGTGTSTDVVYRAFDIYNDKVAGFAKFL...    2701\n",
       "157  ASAQRSQITLHINELMDLFMRIFTIGTVTLKQGEIKDATPSDFVRA...     290\n",
       "168  TNMKIILFLALITLATCELYHYQECVRGTTVLLKEPCSSGTYEGNS...     123\n",
       "158  AQADEYELMYSFVSEETGTLIVNSVLLFLAFVVFLLVTLAILTAHR...      83\n",
       "167  QQMFHLVDFQVTIAEILLIIMRTFKVSIWNLDYIINLIIKNLSKSL...      63\n",
       "3       DGEPCPWFQRENTRPTQFACFTGSRRARTWLWRLRGGGLIRGTSTS      46\n",
       "93      TMLRCYFPKCSEKNNQGYTPLVVTHNFDFTFSFSPEYSMVFVLFFV      46\n",
       "188        KSHHIFTEATRSTIECTVNNARESCLYGRALMCKINFSSAIPM      43\n",
       "116        DVVYTHWYWSGNNSYTGSQYGSRILWWCIVLSVLPLPHRSSKS      43\n",
       "182        LQTLAANCTICPQRFSVLRNVAHWHGSHTFGNVVDLHRCHQIG      43\n",
       "150         FLWKGLSSYVLPSVSTSWCSLLACDLCPCTRKELHNCSCHLS      42\n",
       "172          LNCAWMRLVLNHPFSTSISVIIQFPVYLLQLIARNLNWVVL      41\n",
       "49            RNFVLHRRCFTYKVLRIQRSYYGCFLQRKQLHNNHKTSYL      40\n",
       "22             IQRRNWPTHASKSPKRNYLLRGRNTSHRSVNRGSCLENW      39\n",
       "162             CGSATSLLLSDCLRVRVPCGHSIQKLTFFSTCHSMALF      38\n",
       "82              CFFFSTYSVDGYVHTFSTFLDNNCLYHLYFHKAFLLVL      38\n",
       "80              YVYTTNSTYWCFGHISIYSSWWYCSYRSNMPCLLFYEV      38\n",
       "40               NSCYNATWLCNTWLKFGRSCSVYEISQSASYSFCFFT      37\n",
       "121               QSFQILSFTFNSGLVLTFLFQCYLVPCYTCLWDQWY      36\n",
       "179               QCCNRATTSSRNNIAKRLLRRREQRRQSSLFSFLIT      36\n",
       "81                YFTIPYVIHCTLFNTSLLILTWCLFCYLLVLDILSY      36\n",
       "145               NDCSIHFCTVSGYNHFWLDLWCRCCITNTICYANGL      36\n",
       "2                  QDTSNSSIFCRLLTVSSVLQPIISTSRFRPGVTER      35\n",
       "37                 NASESFEKSANRQLYNHLPGSGFKWLHCRGGKDSA      35\n",
       "92                 HTRTSFCSNWNCRFRYVCFIKRITAKWYEWTYHIG      35\n",
       "155                 AVYKMAMVHLARFYSWLDCHSNGDNYALLYDQLL      34\n",
       "108                 CTQQHYQQCKRWLCSLEHNTSYNSSQTNGCHTRL      34\n",
       "146                 CYWQNSRLTFFHSKCTWKTSRCGQPKCTSFKHAC      34\n",
       "88                  VCSHSTRTDFFSVSLLQWFTIWCLPMCYEAQFHY      34\n",
       "39                    EARNSWNCFLEFARNACTCRRNTQINACLCGN      32\n",
       "..                                                 ...     ...\n",
       "102                                       IYEFTGTTPTQE      12\n",
       "14                                        PYRCCWRRFRRS      12\n",
       "96                                        LGDAYYDMVGYG      12\n",
       "120                                       SYNQNSITPCIH      12\n",
       "86                                        RSLLSKTCDLHL      12\n",
       "5                                         AGSRTRRHSVRS      12\n",
       "126                                       KWNHYRCCRLCT      12\n",
       "77                                        HLLHTIKTYRVH      12\n",
       "149                                       NVRVCTWTIKKS      12\n",
       "55                                        CENYRSCRRHYT      12\n",
       "70                                        CYSEEWFHPSLL      12\n",
       "163                                       SFVDIFVLLDTI      12\n",
       "137                                       CFSNTCRLFNRG      12\n",
       "60                                        SIYADYYSKEYC      12\n",
       "53                                         CTEVRGRAGNG      11\n",
       "50                                         ERQFLFHRATN      11\n",
       "144                                        RPYCFATFAHR      11\n",
       "153                                        CCNRNCQQHSL      11\n",
       "154                                        ISHRSPRTWKV      11\n",
       "9                                          NSICLSSCVTK      11\n",
       "58                                         HSYTVFKPCLY      11\n",
       "42                                         DTSFFERSEDY      11\n",
       "67                                         SCTNGPDFSYG      11\n",
       "29                                         GQSDNYYSNNC      11\n",
       "69                                         RLLQTTQLELC      11\n",
       "38                                         KCLLHSTIYYL      11\n",
       "132                                        TSTCTSNCLWT      11\n",
       "34                                         WQSSSRFCHSC      11\n",
       "33                                         QTCFKLFGNEE      11\n",
       "147                                        LQFWCNFKCFK      11\n",
       "\n",
       "[190 rows x 2 columns]"
      ]
     },
     "execution_count": 41,
     "metadata": {},
     "output_type": "execute_result"
    }
   ],
   "source": [
    "df.sort_values('length',ascending=False)"
   ]
  },
  {
   "cell_type": "code",
   "execution_count": 42,
   "metadata": {
    "scrolled": true
   },
   "outputs": [
    {
     "data": {
      "text/plain": [
       "'CTIVFKRVCGVSAARLTPCGTGTSTDVVYRAFDIYNDKVAGFAKFLKTNCCRFQEKDEDDNLIDSYFVVKRHTFSNYQHEETIYNLLKDCPAVAKHDFFKFRIDGDMVPHISRQRLTKYTMADLVYALRHFDEGNCDTLKEILVTYNCCDDDYFNKKDWYDFVENPDILRVYANLGERVRQALLKTVQFCDAMRNAGIVGVLTLDNQDLNGNWYDFGDFIQTTPGSGVPVVDSYYSLLMPILTLTRALTAESHVDTDLTKPYIKWDLLKYDFTEERLKLFDRYFKYWDQTYHPNCVNCLDDRCILHCANFNVLFSTVFPPTSFGPLVRKIFVDGVPFVVSTGYHFRELGVVHNQDVNLHSSRLSFKELLVYAADPAMHAASGNLLLDKRTTCFSVAALTNNVAFQTVKPGNFNKDFYDFAVSKGFFKEGSSVELKHFFFAQDGNAAISDYDYYRYNLPTMCDIRQLLFVVEVVDKYFDCYDGGCINANQVIVNNLDKSAGFPFNKWGKARLYYDSMSYEDQDALFAYTKRNVIPTITQMNLKYAISAKNRARTVAGVSICSTMTNRQFHQKLLKSIAATRGATVVIGTSKFYGGWHNMLKTVYSDVENPHLMGWDYPKCDRAMPNMLRIMASLVLARKHTTCCSLSHRFYRLANECAQVLSEMVMCGGSLYVKPGGTSSGDATTAYANSVFNICQAVTANVNALLSTDGNKIADKYVRNLQHRLYECLYRNRDVDTDFVNEFYAYLRKHFSMMILSDDAVVCFNSTYASQGLVASIKNFKSVLYYQNNVFMSEAKCWTETDLTKGPHEFCSQHTMLVKQGDDYVYLPYPDPSRILGAGCFVDDIVKTDGTLMIERFVSLAIDAYPLTKHPNQEYADVFHLYLQYIRKLHDELTGHMLDMYSVMLTNDNTSRYWEPEFYEAMYTPHTVLQAVGACVLCNSQTSLRCGACIRRPFLCCKCCYDHVISTSHKLVLSVNPYVCNAPGCDVTDVTQLYLGGMSYYCKSHKPPISFPLCANGQVFGLYKNTCVGSDNVTDFNAIATCDWTNAGDYILANTCTERLKLFAAETLKATEETFKLSYGIATVREVLSDRELHLSWEVGKPRPPLNRNYVFTGYRVTKNSKVQIGEYTFEKGDYGDAVVYRGTTTYKLNVGDYFVLTSHTVMPLSAPTLVPQEHYVRITGLYPTLNISDEFSSNVANYQKVGMQKYSTLQGPPGTGKSHFAIGLALYYPSARIVYTACSHAAVDALCEKALKYLPIDKCSRIIPARARVECFDKFKVNSTLEQYVFCTVNALPETTADIVVFDEISMATNYDLSVVNARLRAKHYVYIGDPAQLPAPRTLLTKGTLEPEYFNSVCRLMKTIGPDMFLGTCRRCPAEIVDTVSALVYDNKLKAHKDKSAQCFKMFYKGVITHDVSSAINRPQIGVVREFLTRNPAWRKAVFISPYNSQNAVASKILGLPTQTVDSSQGSEYDYVIFTQTTETAHSCNVNRFNVAITRAKVGILCIMSDRDLYDKLQFTSLEIPRRNVATLQAENVTGLFKDCSKVITGLHPTQAPTHLSVDTKFKTEGLCVDIPGIPKDMTYRRLISMMGFKMNYQVNGYPNMFITREEAIRHVRAWIGFDVEGCHATREAVGTNLPLQLGFSTGVNLVAVPTGYVDTPNNTDFSRVSAKPPPGDQFKHLIPLMYKGLPWNVVRIKIVQMLSDTLKNLSDRVVFVLWAHGFELTSMKYFVKIGPERTCCLCDRRATCFSTASDTYACWHHSIGFDYVYNPFMIDVQQWGFTGNLQSNHDLYCQVHGNAHVASCDAIMTRCLAVHECFVKRVDWTIEYPIIGDELKINAACRKVQHMVVKAALLADKFPVLHDIGNPKAIKCVPQADVEWKFYDAQPCSDKAYKIEELFYSYATHSDKFTDGVCLFWNCNVDRYPANSIVCRFDTRVLSNLNLPGCDGGSLYVNKHAFHTPAFDKSAFVNLKQLPFFYYSDSPCESHGKQVVSDIDYVPLKSATCITRCNLGGAVCRHHANEYRLYLDAYNMMISAGFSLWVYKQFDTYNLWNTFTRLQSLENVAFNVVNKGHFDGQQGEVPVSIINNTVYTKVDGVDVELFENKTTLPVNVAFELWAKRNIKPVPEVKILNNLGVDIAANTVIWDYKRDAPAHISTIGVCSMTDIAKKPTETICAPLTVFFDGRVDGQVDLFRNARNGVLITEGSVKGLQPSVGPKQASLNGVTLIGEAVKTQFNYYKKVDGVVQQLPETYFTQSRNLQEFKPRSQMEIDFLELAMDEFIERYKLEGYAFEHIVYGDFSHSQLGGLHLLIGLAKRFKESPFELEDFIPMDSTVKNYFITDAQTGSSKCVCSVIDLLLDDFVEIIKSQDLSVVSKVVKVTIDYTEISFMLWCKDGHVETFYPKLQSSQAWQPGVAMPNLYKMQRMLLEKCDLQNYGDSATLPKGIMMNVAKYTQLCQYLNTLTLAVPYNMRVIHFGAGSDKGVAPGTAVLRQWLPTGMLLVDSDLNDFVSDADSTLIGDCATVHTANKWDLIISDMYDPKTKNVTKENDSKEGFFTYICGFIQQKLALGGSVAIKITEHSWNADLYKLMGHFAWWTAFVTNVNASSSEAFLIGCNYLGKPREQIDGYVMHANYIFWRNTNPIQLSSYSLFDMSKFPLKLRGTAVMSLKEGQINDMILSLLSKGRLIIRENNRVVISSDVLVNN'"
      ]
     },
     "execution_count": 42,
     "metadata": {},
     "output_type": "execute_result"
    }
   ],
   "source": [
    "single_prot=df.nlargest(1,'length').iloc[0,0]\n",
    "single_prot"
   ]
  },
  {
   "cell_type": "code",
   "execution_count": 121,
   "metadata": {},
   "outputs": [],
   "source": [
    "with open('single_prot.fasta','w') as file:\n",
    "    file.write(\">large protein\\n\"+ single_prot)"
   ]
  },
  {
   "cell_type": "code",
   "execution_count": 43,
   "metadata": {},
   "outputs": [
    {
     "data": {
      "text/plain": [
       "SeqRecord(seq=Seq('CTIVFKRVCGVSAARLTPCGTGTSTDVVYRAFDIYNDKVAGFAKFLKTNCCRFQ...VNN'), id='large', name='large', description='large protein', dbxrefs=[])"
      ]
     },
     "execution_count": 43,
     "metadata": {},
     "output_type": "execute_result"
    }
   ],
   "source": [
    "#read\n",
    "read=SeqIO.read('single_prot.fasta','fasta')\n",
    "read"
   ]
  },
  {
   "cell_type": "markdown",
   "metadata": {},
   "source": [
    "### Using qblast in ncbiwww to find structures with description in Protein Data Bank(pdb)"
   ]
  },
  {
   "cell_type": "code",
   "execution_count": 44,
   "metadata": {},
   "outputs": [],
   "source": [
    "result_handle=NCBIWWW.qblast('blastp','pdb',read.seq)\n",
    "blast_qresult=SearchIO.read(result_handle,'blast-xml')"
   ]
  },
  {
   "cell_type": "code",
   "execution_count": 45,
   "metadata": {},
   "outputs": [
    {
     "name": "stdout",
     "output_type": "stream",
     "text": [
      "Program: blastp (2.11.0+)\n",
      "  Query: unnamed (2701)\n",
      "         protein product\n",
      " Target: pdb\n",
      "   Hits: ----  -----  ----------------------------------------------------------\n",
      "            #  # HSP  ID + description\n",
      "         ----  -----  ----------------------------------------------------------\n",
      "            0      1  pdb|7D4F|A  Structure of COVID-19 RNA-dependent RNA pol...\n",
      "            1      1  pdb|6YYT|A  Structure of replicating SARS-CoV-2 polymer...\n",
      "            2      1  pdb|6XEZ|A  Chain A, RNA-directed RNA polymerase [Sever...\n",
      "            3      1  pdb|7BW4|A  Structure of the RNA-dependent RNA polymera...\n",
      "            4      1  pdb|6XQB|A  Chain A, RNA-directed RNA polymerase [Sever...\n"
     ]
    }
   ],
   "source": [
    "print(blast_qresult[:5])"
   ]
  },
  {
   "cell_type": "code",
   "execution_count": 46,
   "metadata": {},
   "outputs": [],
   "source": [
    "seqid=blast_qresult[0]\n",
    "details=seqid[0]"
   ]
  },
  {
   "cell_type": "code",
   "execution_count": 47,
   "metadata": {},
   "outputs": [
    {
     "data": {
      "text/plain": [
       "HSP(hit_id='pdb|7D4F|A', query_id='unnamed', 1 fragments)"
      ]
     },
     "execution_count": 47,
     "metadata": {},
     "output_type": "execute_result"
    }
   ],
   "source": [
    "details"
   ]
  },
  {
   "cell_type": "code",
   "execution_count": 48,
   "metadata": {},
   "outputs": [
    {
     "name": "stdout",
     "output_type": "stream",
     "text": [
      "Sequence ID:pdb|7D4F|A\n",
      "description:Structure of COVID-19 RNA-dependent RNA polymerase bound to suramin [Severe acute respiratory syndrome coronavirus 2]\n",
      "E value:    0.0 \n",
      "Bit Score:  1938.7\n",
      "\n"
     ]
    }
   ],
   "source": [
    "print(f\"\\\n",
    "Sequence ID:{seqid.id}\\n\\\n",
    "description:{seqid.description}\\n\\\n",
    "E value:    {details.evalue} \\n\\\n",
    "Bit Score:  {details.bitscore}\\n\\\n",
    "\")"
   ]
  },
  {
   "cell_type": "code",
   "execution_count": 49,
   "metadata": {},
   "outputs": [
    {
     "name": "stdout",
     "output_type": "stream",
     "text": [
      "alignment:\n",
      "Alignment with 2 rows and 926 columns\n",
      "FKRVCGVSAARLTPCGTGTSTDVVYRAFDIYNDKVAGFAKFLKT...LQA unnamed\n",
      "LNRVCGVSAARLTPCGTGTSTDVVYRAFDIYNDKVAGFAKFLKT...LQG pdb|7D4F|A\n"
     ]
    }
   ],
   "source": [
    "print(f'alignment:\\n{details.aln}')"
   ]
  },
  {
   "cell_type": "code",
   "execution_count": 50,
   "metadata": {},
   "outputs": [
    {
     "data": {
      "text/plain": [
       "'pdb|7D4F|A'"
      ]
     },
     "execution_count": 50,
     "metadata": {},
     "output_type": "execute_result"
    }
   ],
   "source": [
    "seqid.id"
   ]
  },
  {
   "cell_type": "code",
   "execution_count": 51,
   "metadata": {},
   "outputs": [
    {
     "data": {
      "text/plain": [
       "'7D4F'"
      ]
     },
     "execution_count": 51,
     "metadata": {},
     "output_type": "execute_result"
    }
   ],
   "source": [
    "seqid.id.split('|')[1]"
   ]
  },
  {
   "cell_type": "code",
   "execution_count": null,
   "metadata": {},
   "outputs": [],
   "source": [
    "urllib.request.urlretrieve('https://files.rcsb.org/download/6YYT.pdb','6YYT.pdb')"
   ]
  },
  {
   "cell_type": "code",
   "execution_count": 62,
   "metadata": {},
   "outputs": [
    {
     "name": "stderr",
     "output_type": "stream",
     "text": [
      "C:\\Users\\oukle\\Anaconda3\\lib\\site-packages\\Bio\\PDB\\StructureBuilder.py:92: PDBConstructionWarning: WARNING: Chain A is discontinuous at line 12059.\n",
      "  PDBConstructionWarning,\n"
     ]
    }
   ],
   "source": [
    "parser=PDBParser()\n",
    "structure=parser.get_structure('6YYT.pdb','6YYT.pdb')"
   ]
  },
  {
   "cell_type": "code",
   "execution_count": 63,
   "metadata": {},
   "outputs": [
    {
     "data": {
      "text/plain": [
       "<Model id=0>"
      ]
     },
     "execution_count": 63,
     "metadata": {},
     "output_type": "execute_result"
    }
   ],
   "source": [
    "structure[0]"
   ]
  },
  {
   "cell_type": "code",
   "execution_count": 64,
   "metadata": {},
   "outputs": [
    {
     "name": "stdout",
     "output_type": "stream",
     "text": [
      "A\n",
      "B\n",
      "C\n",
      "D\n",
      "P\n",
      "Q\n",
      "T\n",
      "U\n"
     ]
    }
   ],
   "source": [
    "for chain in structure[0]:\n",
    "    print(chain.id)"
   ]
  },
  {
   "cell_type": "markdown",
   "metadata": {},
   "source": [
    "## protein structure"
   ]
  },
  {
   "cell_type": "code",
   "execution_count": 65,
   "metadata": {},
   "outputs": [
    {
     "data": {
      "application/vnd.jupyter.widget-view+json": {
       "model_id": "ff310abb3b5e44e8b1bb815e8322cf46",
       "version_major": 2,
       "version_minor": 0
      },
      "text/plain": [
       "NGLWidget()"
      ]
     },
     "metadata": {},
     "output_type": "display_data"
    }
   ],
   "source": [
    "nv.demo() #demo"
   ]
  },
  {
   "cell_type": "code",
   "execution_count": 66,
   "metadata": {},
   "outputs": [
    {
     "data": {
      "application/vnd.jupyter.widget-view+json": {
       "model_id": "67e8bcc94bfe483b9105409b96ea0f8e",
       "version_major": 2,
       "version_minor": 0
      },
      "text/plain": [
       "NGLWidget()"
      ]
     },
     "metadata": {},
     "output_type": "display_data"
    }
   ],
   "source": [
    "view=nv.show_biopython(structure)\n",
    "view"
   ]
  },
  {
   "cell_type": "markdown",
   "metadata": {},
   "source": [
    "### make the 2d image to be able to attach to the document files"
   ]
  },
  {
   "cell_type": "code",
   "execution_count": 67,
   "metadata": {},
   "outputs": [
    {
     "data": {
      "application/vnd.jupyter.widget-view+json": {
       "model_id": "1492488df7344c87834172b83a2ba836",
       "version_major": 2,
       "version_minor": 0
      },
      "text/plain": [
       "Image(value=b'', width='99%')"
      ]
     },
     "metadata": {},
     "output_type": "display_data"
    }
   ],
   "source": [
    "view.render_image()"
   ]
  },
  {
   "cell_type": "markdown",
   "metadata": {},
   "source": [
    "### Can represent different way from the secondary structure"
   ]
  },
  {
   "cell_type": "code",
   "execution_count": 70,
   "metadata": {},
   "outputs": [
    {
     "data": {
      "application/vnd.jupyter.widget-view+json": {
       "model_id": "f028262f9a3247ae9b1e3ae30f122769",
       "version_major": 2,
       "version_minor": 0
      },
      "text/plain": [
       "NGLWidget()"
      ]
     },
     "metadata": {},
     "output_type": "display_data"
    },
    {
     "data": {
      "application/vnd.jupyter.widget-view+json": {
       "model_id": "f554d6fa7e084c68ab78a335594ee10d",
       "version_major": 2,
       "version_minor": 0
      },
      "text/plain": [
       "Tab(children=(Box(children=(Box(children=(Box(children=(Label(value='step'), IntSlider(value=1, min=-100)), la…"
      ]
     },
     "metadata": {},
     "output_type": "display_data"
    }
   ],
   "source": [
    "nv.show_biopython(structure,gui=True)"
   ]
  },
  {
   "cell_type": "code",
   "execution_count": null,
   "metadata": {},
   "outputs": [],
   "source": []
  }
 ],
 "metadata": {
  "kernelspec": {
   "display_name": "Python 3",
   "language": "python",
   "name": "python3"
  },
  "language_info": {
   "codemirror_mode": {
    "name": "ipython",
    "version": 3
   },
   "file_extension": ".py",
   "mimetype": "text/x-python",
   "name": "python",
   "nbconvert_exporter": "python",
   "pygments_lexer": "ipython3",
   "version": "3.7.6"
  }
 },
 "nbformat": 4,
 "nbformat_minor": 4
}
